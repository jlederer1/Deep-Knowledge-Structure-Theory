{
 "cells": [
  {
   "cell_type": "markdown",
   "metadata": {},
   "source": [
    "### Imports"
   ]
  },
  {
   "cell_type": "code",
   "execution_count": 19,
   "metadata": {},
   "outputs": [
    {
     "name": "stdout",
     "output_type": "stream",
     "text": [
      "dict_items([(2, 4), (3, 29), (4, 355), (5, 6942), (6, 209527), (7, 9535241), (8, 642779354), (9, 63260289423)]) \n",
      "dict_items([(2, 3), (3, 19), (4, 219), (5, 4231), (6, 130023), (7, 6129859), (8, 431723379), (9, 44511042511)]) \n",
      "dict_items([(2, 4), (3, 8), (4, 16), (5, 32), (6, 64), (7, 128), (8, 256), (9, 512)])\n",
      "Number of possible knowledge structures: \n",
      "[4, 64, 16384, 1073741824, 4611686018427387904, 85070591730234615865843651857942052864]\n"
     ]
    }
   ],
   "source": [
    "from KST_utils import *\n",
    "from DKST_utils import *\n",
    "from DKST_models import *\n",
    "\n",
    "import torch\n",
    "from torch import nn\n",
    "import torch.optim as optim\n",
    "from torch.utils.data import DataLoader\n",
    "import matplotlib.colors as mcolors\n",
    "from IPython.display import clear_output\n",
    "\n",
    "# Display integer series relevant to the dataset\n",
    "print(f\"{num_prosets.items()} \\n{num_posets.items()} \\n{num_states.items()}\")\n",
    "print(f\"Number of possible knowledge structures: \\n{[2**(2**Q-2) for Q in [2,3,4,5,6,7]]}\")\n",
    "\n",
    "# Adjust path to config files\n",
    "path_data = r\"C:\\Users\\...\\Deep-Knowledge-Structure_Theory\\config\\config_data_5_demo.json\"  \n",
    "path_model = r\"C:\\Users\\...\\Deep-Knowledge-Structure_Theory\\config\\config_model_5_demo.json\" "
   ]
  },
  {
   "cell_type": "markdown",
   "metadata": {},
   "source": [
    "### Model and Data"
   ]
  },
  {
   "cell_type": "code",
   "execution_count": 39,
   "metadata": {},
   "outputs": [
    {
     "name": "stderr",
     "output_type": "stream",
     "text": [
      "100%|██████████| 6942/6942 [00:00<00:00, 56422.33it/s]\n"
     ]
    },
    {
     "name": "stdout",
     "output_type": "stream",
     "text": [
      "Dataset: 6942, Batch size: 32, Split: [0.2, 0.2, 0.6]\n"
     ]
    }
   ],
   "source": [
    "model = SimpleDecoderModel(config_path=path_model)\n",
    "model.to(model.config[\"device\"]);\n",
    "\n",
    "device = model.config['device']\n",
    "input_size = 2 ** model.config['n_items'] \n",
    "output_size = 1024\n",
    "hidden_size1 = output_size\n",
    "hidden_size2 = output_size\n",
    "dropout_val = 0.3\n",
    "regressor = RegressionNetwork(input_size, hidden_size1, hidden_size2, output_size, dropout_val).to(device)\n",
    "\n",
    "DATASET = DKSTDataset(config_path=path_data)\n",
    "BS = model.config[\"BATCH_SIZE_2\"]\n",
    "training_phase = 2\n",
    "print(f\"Dataset: {len(DATASET)}, Batch size: {BS}, Split: {DATASET.config[f'phase_{training_phase}_split']}\")\n",
    "\n",
    "complete_loader = DataLoader(DATASET, batch_size=BS, shuffle=True, collate_fn=collate_fn) \n",
    "train_set, val_set, test_set = DATASET.split(DATASET, phase=training_phase)\n",
    "train_loader = DataLoader(train_set, batch_size=BS, shuffle=True, collate_fn=collate_fn)\n",
    "val_loader = DataLoader(val_set, batch_size=BS, shuffle=True, collate_fn=collate_fn)\n",
    "test_loader = DataLoader(test_set, batch_size=1, shuffle=True, collate_fn=collate_fn)\n"
   ]
  },
  {
   "cell_type": "code",
   "execution_count": 22,
   "metadata": {},
   "outputs": [],
   "source": [
    "# Load models if available\n",
    "save_dir = \"models\"\n",
    "if not os.path.exists(save_dir):\n",
    "    os.makedirs(save_dir)\n",
    "\n",
    "load_path = f\"{save_dir}/{model.config['ID_decoder']}.pt\"\n",
    "model.load_state_dict(torch.load(load_path))\n",
    "model.to(device)\n",
    "\n",
    "decoder_in_proj_layer = model.input_proj\n",
    "\n",
    "save_path = f\"{save_dir}/{model.config['ID_regressor']}.pt\" \n",
    "regressor.load_state_dict(torch.load(save_path))\n",
    "regressor.to(device); "
   ]
  },
  {
   "cell_type": "markdown",
   "metadata": {},
   "source": [
    "### Test"
   ]
  },
  {
   "cell_type": "code",
   "execution_count": 30,
   "metadata": {},
   "outputs": [
    {
     "name": "stdout",
     "output_type": "stream",
     "text": [
      "Index: 2648, Beta: 0.13, Eta: 0.11, Samples size: 1616\n"
     ]
    },
    {
     "data": {
      "application/vnd.plotly.v1+json": {
       "config": {
        "plotlyServerURL": "https://plot.ly"
       },
       "data": [
        {
         "hovertext": [
          "",
          "a",
          "b",
          "c",
          "d",
          "e",
          "ab",
          "ac",
          "ad",
          "ae",
          "bc",
          "bd",
          "be",
          "cd",
          "ce",
          "de",
          "abc",
          "abd",
          "abe",
          "acd",
          "ace",
          "ade",
          "bcd",
          "bce",
          "bde",
          "cde",
          "abcd",
          "abce",
          "abde",
          "acde",
          "bcde",
          "abcde"
         ],
         "marker": {
          "color": [
           "green",
           "lightgreen",
           "lightgreen",
           "green",
           "lightgreen",
           "green",
           "lightgreen",
           "lightgreen",
           "lightgreen",
           "lightgreen",
           "lightgreen",
           "lightgreen",
           "lightgreen",
           "green",
           "green",
           "lightgreen",
           "lightgreen",
           "lightgreen",
           "lightgreen",
           "green",
           "lightgreen",
           "lightgreen",
           "green",
           "lightgreen",
           "lightgreen",
           "green",
           "green",
           "lightgreen",
           "lightgreen",
           "green",
           "green",
           "green",
           "lightgreen",
           "lightgreen"
          ]
         },
         "type": "bar",
         "x": [
          "",
          "a",
          "b",
          "c",
          "d",
          "e",
          "ab",
          "ac",
          "ad",
          "ae",
          "bc",
          "bd",
          "be",
          "cd",
          "ce",
          "de",
          "abc",
          "abd",
          "abe",
          "acd",
          "ace",
          "ade",
          "bcd",
          "bce",
          "bde",
          "cde",
          "abcd",
          "abce",
          "abde",
          "acde",
          "bcde",
          "abcde"
         ],
         "y": [
          0.9564226865768433,
          -0.9134373664855957,
          -0.8489594459533691,
          1.4292608499526978,
          -0.6340330243110657,
          1.3217976093292236,
          -1.0423932075500488,
          -0.39761391282081604,
          -0.5695551037788391,
          -0.9349300265312195,
          -0.4835844933986664,
          -0.7844815254211426,
          -0.8274667859077454,
          1.9020990133285522,
          1.5367240905761719,
          -0.7629888653755188,
          -0.6770182847976685,
          -0.9349300265312195,
          -1.0423932075500488,
          1.106871247291565,
          -0.5910477042198181,
          -0.720003604888916,
          1.1713491678237915,
          -0.4835844933986664,
          -0.9349300265312195,
          0.8704521059989929,
          0.977915346622467,
          -0.6770182847976685,
          -0.8059741854667664,
          0.999407947063446,
          1.6012020111083984,
          1.1928417682647705
         ]
        }
       ],
       "layout": {
        "annotations": [
         {
          "bgcolor": "rgba(255, 255, 255, 0.95)",
          "font": {
           "color": "rgb(37,37,37)",
           "size": 14
          },
          "showarrow": false,
          "text": "IITA v1 vs. Ground truth",
          "x": 0.5,
          "xref": "paper",
          "y": 1.1,
          "yref": "paper"
         },
         {
          "showarrow": false,
          "text": "This plot shows the (standardized) state frequencies used as input to the regression module. \nBars are colored based on TP (green), TN, (light green), FP (red), and FN (salmon).",
          "x": 0.5,
          "xref": "paper",
          "y": -0.35,
          "yref": "paper"
         }
        ],
        "autosize": true,
        "margin": {
         "b": 90,
         "l": 50,
         "pad": 10,
         "r": 50,
         "t": 90
        },
        "template": {
         "data": {
          "bar": [
           {
            "error_x": {
             "color": "#2a3f5f"
            },
            "error_y": {
             "color": "#2a3f5f"
            },
            "marker": {
             "line": {
              "color": "#E5ECF6",
              "width": 0.5
             },
             "pattern": {
              "fillmode": "overlay",
              "size": 10,
              "solidity": 0.2
             }
            },
            "type": "bar"
           }
          ],
          "barpolar": [
           {
            "marker": {
             "line": {
              "color": "#E5ECF6",
              "width": 0.5
             },
             "pattern": {
              "fillmode": "overlay",
              "size": 10,
              "solidity": 0.2
             }
            },
            "type": "barpolar"
           }
          ],
          "carpet": [
           {
            "aaxis": {
             "endlinecolor": "#2a3f5f",
             "gridcolor": "white",
             "linecolor": "white",
             "minorgridcolor": "white",
             "startlinecolor": "#2a3f5f"
            },
            "baxis": {
             "endlinecolor": "#2a3f5f",
             "gridcolor": "white",
             "linecolor": "white",
             "minorgridcolor": "white",
             "startlinecolor": "#2a3f5f"
            },
            "type": "carpet"
           }
          ],
          "choropleth": [
           {
            "colorbar": {
             "outlinewidth": 0,
             "ticks": ""
            },
            "type": "choropleth"
           }
          ],
          "contour": [
           {
            "colorbar": {
             "outlinewidth": 0,
             "ticks": ""
            },
            "colorscale": [
             [
              0,
              "#0d0887"
             ],
             [
              0.1111111111111111,
              "#46039f"
             ],
             [
              0.2222222222222222,
              "#7201a8"
             ],
             [
              0.3333333333333333,
              "#9c179e"
             ],
             [
              0.4444444444444444,
              "#bd3786"
             ],
             [
              0.5555555555555556,
              "#d8576b"
             ],
             [
              0.6666666666666666,
              "#ed7953"
             ],
             [
              0.7777777777777778,
              "#fb9f3a"
             ],
             [
              0.8888888888888888,
              "#fdca26"
             ],
             [
              1,
              "#f0f921"
             ]
            ],
            "type": "contour"
           }
          ],
          "contourcarpet": [
           {
            "colorbar": {
             "outlinewidth": 0,
             "ticks": ""
            },
            "type": "contourcarpet"
           }
          ],
          "heatmap": [
           {
            "colorbar": {
             "outlinewidth": 0,
             "ticks": ""
            },
            "colorscale": [
             [
              0,
              "#0d0887"
             ],
             [
              0.1111111111111111,
              "#46039f"
             ],
             [
              0.2222222222222222,
              "#7201a8"
             ],
             [
              0.3333333333333333,
              "#9c179e"
             ],
             [
              0.4444444444444444,
              "#bd3786"
             ],
             [
              0.5555555555555556,
              "#d8576b"
             ],
             [
              0.6666666666666666,
              "#ed7953"
             ],
             [
              0.7777777777777778,
              "#fb9f3a"
             ],
             [
              0.8888888888888888,
              "#fdca26"
             ],
             [
              1,
              "#f0f921"
             ]
            ],
            "type": "heatmap"
           }
          ],
          "heatmapgl": [
           {
            "colorbar": {
             "outlinewidth": 0,
             "ticks": ""
            },
            "colorscale": [
             [
              0,
              "#0d0887"
             ],
             [
              0.1111111111111111,
              "#46039f"
             ],
             [
              0.2222222222222222,
              "#7201a8"
             ],
             [
              0.3333333333333333,
              "#9c179e"
             ],
             [
              0.4444444444444444,
              "#bd3786"
             ],
             [
              0.5555555555555556,
              "#d8576b"
             ],
             [
              0.6666666666666666,
              "#ed7953"
             ],
             [
              0.7777777777777778,
              "#fb9f3a"
             ],
             [
              0.8888888888888888,
              "#fdca26"
             ],
             [
              1,
              "#f0f921"
             ]
            ],
            "type": "heatmapgl"
           }
          ],
          "histogram": [
           {
            "marker": {
             "pattern": {
              "fillmode": "overlay",
              "size": 10,
              "solidity": 0.2
             }
            },
            "type": "histogram"
           }
          ],
          "histogram2d": [
           {
            "colorbar": {
             "outlinewidth": 0,
             "ticks": ""
            },
            "colorscale": [
             [
              0,
              "#0d0887"
             ],
             [
              0.1111111111111111,
              "#46039f"
             ],
             [
              0.2222222222222222,
              "#7201a8"
             ],
             [
              0.3333333333333333,
              "#9c179e"
             ],
             [
              0.4444444444444444,
              "#bd3786"
             ],
             [
              0.5555555555555556,
              "#d8576b"
             ],
             [
              0.6666666666666666,
              "#ed7953"
             ],
             [
              0.7777777777777778,
              "#fb9f3a"
             ],
             [
              0.8888888888888888,
              "#fdca26"
             ],
             [
              1,
              "#f0f921"
             ]
            ],
            "type": "histogram2d"
           }
          ],
          "histogram2dcontour": [
           {
            "colorbar": {
             "outlinewidth": 0,
             "ticks": ""
            },
            "colorscale": [
             [
              0,
              "#0d0887"
             ],
             [
              0.1111111111111111,
              "#46039f"
             ],
             [
              0.2222222222222222,
              "#7201a8"
             ],
             [
              0.3333333333333333,
              "#9c179e"
             ],
             [
              0.4444444444444444,
              "#bd3786"
             ],
             [
              0.5555555555555556,
              "#d8576b"
             ],
             [
              0.6666666666666666,
              "#ed7953"
             ],
             [
              0.7777777777777778,
              "#fb9f3a"
             ],
             [
              0.8888888888888888,
              "#fdca26"
             ],
             [
              1,
              "#f0f921"
             ]
            ],
            "type": "histogram2dcontour"
           }
          ],
          "mesh3d": [
           {
            "colorbar": {
             "outlinewidth": 0,
             "ticks": ""
            },
            "type": "mesh3d"
           }
          ],
          "parcoords": [
           {
            "line": {
             "colorbar": {
              "outlinewidth": 0,
              "ticks": ""
             }
            },
            "type": "parcoords"
           }
          ],
          "pie": [
           {
            "automargin": true,
            "type": "pie"
           }
          ],
          "scatter": [
           {
            "fillpattern": {
             "fillmode": "overlay",
             "size": 10,
             "solidity": 0.2
            },
            "type": "scatter"
           }
          ],
          "scatter3d": [
           {
            "line": {
             "colorbar": {
              "outlinewidth": 0,
              "ticks": ""
             }
            },
            "marker": {
             "colorbar": {
              "outlinewidth": 0,
              "ticks": ""
             }
            },
            "type": "scatter3d"
           }
          ],
          "scattercarpet": [
           {
            "marker": {
             "colorbar": {
              "outlinewidth": 0,
              "ticks": ""
             }
            },
            "type": "scattercarpet"
           }
          ],
          "scattergeo": [
           {
            "marker": {
             "colorbar": {
              "outlinewidth": 0,
              "ticks": ""
             }
            },
            "type": "scattergeo"
           }
          ],
          "scattergl": [
           {
            "marker": {
             "colorbar": {
              "outlinewidth": 0,
              "ticks": ""
             }
            },
            "type": "scattergl"
           }
          ],
          "scattermapbox": [
           {
            "marker": {
             "colorbar": {
              "outlinewidth": 0,
              "ticks": ""
             }
            },
            "type": "scattermapbox"
           }
          ],
          "scatterpolar": [
           {
            "marker": {
             "colorbar": {
              "outlinewidth": 0,
              "ticks": ""
             }
            },
            "type": "scatterpolar"
           }
          ],
          "scatterpolargl": [
           {
            "marker": {
             "colorbar": {
              "outlinewidth": 0,
              "ticks": ""
             }
            },
            "type": "scatterpolargl"
           }
          ],
          "scatterternary": [
           {
            "marker": {
             "colorbar": {
              "outlinewidth": 0,
              "ticks": ""
             }
            },
            "type": "scatterternary"
           }
          ],
          "surface": [
           {
            "colorbar": {
             "outlinewidth": 0,
             "ticks": ""
            },
            "colorscale": [
             [
              0,
              "#0d0887"
             ],
             [
              0.1111111111111111,
              "#46039f"
             ],
             [
              0.2222222222222222,
              "#7201a8"
             ],
             [
              0.3333333333333333,
              "#9c179e"
             ],
             [
              0.4444444444444444,
              "#bd3786"
             ],
             [
              0.5555555555555556,
              "#d8576b"
             ],
             [
              0.6666666666666666,
              "#ed7953"
             ],
             [
              0.7777777777777778,
              "#fb9f3a"
             ],
             [
              0.8888888888888888,
              "#fdca26"
             ],
             [
              1,
              "#f0f921"
             ]
            ],
            "type": "surface"
           }
          ],
          "table": [
           {
            "cells": {
             "fill": {
              "color": "#EBF0F8"
             },
             "line": {
              "color": "white"
             }
            },
            "header": {
             "fill": {
              "color": "#C8D4E3"
             },
             "line": {
              "color": "white"
             }
            },
            "type": "table"
           }
          ]
         },
         "layout": {
          "annotationdefaults": {
           "arrowcolor": "#2a3f5f",
           "arrowhead": 0,
           "arrowwidth": 1
          },
          "autotypenumbers": "strict",
          "coloraxis": {
           "colorbar": {
            "outlinewidth": 0,
            "ticks": ""
           }
          },
          "colorscale": {
           "diverging": [
            [
             0,
             "#8e0152"
            ],
            [
             0.1,
             "#c51b7d"
            ],
            [
             0.2,
             "#de77ae"
            ],
            [
             0.3,
             "#f1b6da"
            ],
            [
             0.4,
             "#fde0ef"
            ],
            [
             0.5,
             "#f7f7f7"
            ],
            [
             0.6,
             "#e6f5d0"
            ],
            [
             0.7,
             "#b8e186"
            ],
            [
             0.8,
             "#7fbc41"
            ],
            [
             0.9,
             "#4d9221"
            ],
            [
             1,
             "#276419"
            ]
           ],
           "sequential": [
            [
             0,
             "#0d0887"
            ],
            [
             0.1111111111111111,
             "#46039f"
            ],
            [
             0.2222222222222222,
             "#7201a8"
            ],
            [
             0.3333333333333333,
             "#9c179e"
            ],
            [
             0.4444444444444444,
             "#bd3786"
            ],
            [
             0.5555555555555556,
             "#d8576b"
            ],
            [
             0.6666666666666666,
             "#ed7953"
            ],
            [
             0.7777777777777778,
             "#fb9f3a"
            ],
            [
             0.8888888888888888,
             "#fdca26"
            ],
            [
             1,
             "#f0f921"
            ]
           ],
           "sequentialminus": [
            [
             0,
             "#0d0887"
            ],
            [
             0.1111111111111111,
             "#46039f"
            ],
            [
             0.2222222222222222,
             "#7201a8"
            ],
            [
             0.3333333333333333,
             "#9c179e"
            ],
            [
             0.4444444444444444,
             "#bd3786"
            ],
            [
             0.5555555555555556,
             "#d8576b"
            ],
            [
             0.6666666666666666,
             "#ed7953"
            ],
            [
             0.7777777777777778,
             "#fb9f3a"
            ],
            [
             0.8888888888888888,
             "#fdca26"
            ],
            [
             1,
             "#f0f921"
            ]
           ]
          },
          "colorway": [
           "#636efa",
           "#EF553B",
           "#00cc96",
           "#ab63fa",
           "#FFA15A",
           "#19d3f3",
           "#FF6692",
           "#B6E880",
           "#FF97FF",
           "#FECB52"
          ],
          "font": {
           "color": "#2a3f5f"
          },
          "geo": {
           "bgcolor": "white",
           "lakecolor": "white",
           "landcolor": "#E5ECF6",
           "showlakes": true,
           "showland": true,
           "subunitcolor": "white"
          },
          "hoverlabel": {
           "align": "left"
          },
          "hovermode": "closest",
          "mapbox": {
           "style": "light"
          },
          "paper_bgcolor": "white",
          "plot_bgcolor": "#E5ECF6",
          "polar": {
           "angularaxis": {
            "gridcolor": "white",
            "linecolor": "white",
            "ticks": ""
           },
           "bgcolor": "#E5ECF6",
           "radialaxis": {
            "gridcolor": "white",
            "linecolor": "white",
            "ticks": ""
           }
          },
          "scene": {
           "xaxis": {
            "backgroundcolor": "#E5ECF6",
            "gridcolor": "white",
            "gridwidth": 2,
            "linecolor": "white",
            "showbackground": true,
            "ticks": "",
            "zerolinecolor": "white"
           },
           "yaxis": {
            "backgroundcolor": "#E5ECF6",
            "gridcolor": "white",
            "gridwidth": 2,
            "linecolor": "white",
            "showbackground": true,
            "ticks": "",
            "zerolinecolor": "white"
           },
           "zaxis": {
            "backgroundcolor": "#E5ECF6",
            "gridcolor": "white",
            "gridwidth": 2,
            "linecolor": "white",
            "showbackground": true,
            "ticks": "",
            "zerolinecolor": "white"
           }
          },
          "shapedefaults": {
           "line": {
            "color": "#2a3f5f"
           }
          },
          "ternary": {
           "aaxis": {
            "gridcolor": "white",
            "linecolor": "white",
            "ticks": ""
           },
           "baxis": {
            "gridcolor": "white",
            "linecolor": "white",
            "ticks": ""
           },
           "bgcolor": "#E5ECF6",
           "caxis": {
            "gridcolor": "white",
            "linecolor": "white",
            "ticks": ""
           }
          },
          "title": {
           "x": 0.05
          },
          "xaxis": {
           "automargin": true,
           "gridcolor": "white",
           "linecolor": "white",
           "ticks": "",
           "title": {
            "standoff": 15
           },
           "zerolinecolor": "white",
           "zerolinewidth": 2
          },
          "yaxis": {
           "automargin": true,
           "gridcolor": "white",
           "linecolor": "white",
           "ticks": "",
           "title": {
            "standoff": 15
           },
           "zerolinecolor": "white",
           "zerolinewidth": 2
          }
         }
        },
        "title": {
         "text": "Barplot of (Standardized) State Frequencies",
         "x": 0.5,
         "xanchor": "center",
         "y": 0.9,
         "yanchor": "top"
        },
        "xaxis": {
         "title": {
          "text": "State"
         }
        },
        "yaxis": {
         "title": {
          "text": "Frequency"
         }
        }
       }
      }
     },
     "metadata": {},
     "output_type": "display_data"
    },
    {
     "data": {
      "image/png": "[encoded data removed]",
      "text/plain": [
       "<Figure size 1000x100 with 2 Axes>"
      ]
     },
     "metadata": {},
     "output_type": "display_data"
    },
    {
     "data": {
      "application/vnd.plotly.v1+json": {
       "config": {
        "plotlyServerURL": "https://plot.ly"
       },
       "data": [
        {
         "hovertext": [
          "",
          "a",
          "b",
          "c",
          "d",
          "e",
          "ab",
          "ac",
          "ad",
          "ae",
          "bc",
          "bd",
          "be",
          "cd",
          "ce",
          "de",
          "abc",
          "abd",
          "abe",
          "acd",
          "ace",
          "ade",
          "bcd",
          "bce",
          "bde",
          "cde",
          "abcd",
          "abce",
          "abde",
          "acde",
          "bcde",
          "abcde"
         ],
         "marker": {
          "color": [
           "green",
           "lightgreen",
           "lightgreen",
           "green",
           "lightgreen",
           "green",
           "lightgreen",
           "lightgreen",
           "lightgreen",
           "lightgreen",
           "lightgreen",
           "lightgreen",
           "lightgreen",
           "green",
           "green",
           "lightgreen",
           "lightgreen",
           "lightgreen",
           "lightgreen",
           "green",
           "lightgreen",
           "lightgreen",
           "green",
           "lightgreen",
           "lightgreen",
           "green",
           "green",
           "lightgreen",
           "lightgreen",
           "green",
           "green",
           "green",
           "lightgreen",
           "lightgreen"
          ]
         },
         "type": "bar",
         "x": [
          "",
          "a",
          "b",
          "c",
          "d",
          "e",
          "ab",
          "ac",
          "ad",
          "ae",
          "bc",
          "bd",
          "be",
          "cd",
          "ce",
          "de",
          "abc",
          "abd",
          "abe",
          "acd",
          "ace",
          "ade",
          "bcd",
          "bce",
          "bde",
          "cde",
          "abcd",
          "abce",
          "abde",
          "acde",
          "bcde",
          "abcde"
         ],
         "y": [
          0.9564226865768433,
          -0.9134373664855957,
          -0.8489594459533691,
          1.4292608499526978,
          -0.6340330243110657,
          1.3217976093292236,
          -1.0423932075500488,
          -0.39761391282081604,
          -0.5695551037788391,
          -0.9349300265312195,
          -0.4835844933986664,
          -0.7844815254211426,
          -0.8274667859077454,
          1.9020990133285522,
          1.5367240905761719,
          -0.7629888653755188,
          -0.6770182847976685,
          -0.9349300265312195,
          -1.0423932075500488,
          1.106871247291565,
          -0.5910477042198181,
          -0.720003604888916,
          1.1713491678237915,
          -0.4835844933986664,
          -0.9349300265312195,
          0.8704521059989929,
          0.977915346622467,
          -0.6770182847976685,
          -0.8059741854667664,
          0.999407947063446,
          1.6012020111083984,
          1.1928417682647705
         ]
        }
       ],
       "layout": {
        "annotations": [
         {
          "bgcolor": "rgba(255, 255, 255, 0.95)",
          "font": {
           "color": "rgb(37,37,37)",
           "size": 14
          },
          "showarrow": false,
          "text": "Prediction vs. Ground truth",
          "x": 0.5,
          "xref": "paper",
          "y": 1.1,
          "yref": "paper"
         },
         {
          "showarrow": false,
          "text": "This plot shows the (standardized) state frequencies used as input to the regression module. \nBars are colored based on TP (green), TN, (light green), FP (red), and FN (salmon).",
          "x": 0.5,
          "xref": "paper",
          "y": -0.35,
          "yref": "paper"
         }
        ],
        "autosize": true,
        "margin": {
         "b": 90,
         "l": 50,
         "pad": 10,
         "r": 50,
         "t": 90
        },
        "template": {
         "data": {
          "bar": [
           {
            "error_x": {
             "color": "#2a3f5f"
            },
            "error_y": {
             "color": "#2a3f5f"
            },
            "marker": {
             "line": {
              "color": "#E5ECF6",
              "width": 0.5
             },
             "pattern": {
              "fillmode": "overlay",
              "size": 10,
              "solidity": 0.2
             }
            },
            "type": "bar"
           }
          ],
          "barpolar": [
           {
            "marker": {
             "line": {
              "color": "#E5ECF6",
              "width": 0.5
             },
             "pattern": {
              "fillmode": "overlay",
              "size": 10,
              "solidity": 0.2
             }
            },
            "type": "barpolar"
           }
          ],
          "carpet": [
           {
            "aaxis": {
             "endlinecolor": "#2a3f5f",
             "gridcolor": "white",
             "linecolor": "white",
             "minorgridcolor": "white",
             "startlinecolor": "#2a3f5f"
            },
            "baxis": {
             "endlinecolor": "#2a3f5f",
             "gridcolor": "white",
             "linecolor": "white",
             "minorgridcolor": "white",
             "startlinecolor": "#2a3f5f"
            },
            "type": "carpet"
           }
          ],
          "choropleth": [
           {
            "colorbar": {
             "outlinewidth": 0,
             "ticks": ""
            },
            "type": "choropleth"
           }
          ],
          "contour": [
           {
            "colorbar": {
             "outlinewidth": 0,
             "ticks": ""
            },
            "colorscale": [
             [
              0,
              "#0d0887"
             ],
             [
              0.1111111111111111,
              "#46039f"
             ],
             [
              0.2222222222222222,
              "#7201a8"
             ],
             [
              0.3333333333333333,
              "#9c179e"
             ],
             [
              0.4444444444444444,
              "#bd3786"
             ],
             [
              0.5555555555555556,
              "#d8576b"
             ],
             [
              0.6666666666666666,
              "#ed7953"
             ],
             [
              0.7777777777777778,
              "#fb9f3a"
             ],
             [
              0.8888888888888888,
              "#fdca26"
             ],
             [
              1,
              "#f0f921"
             ]
            ],
            "type": "contour"
           }
          ],
          "contourcarpet": [
           {
            "colorbar": {
             "outlinewidth": 0,
             "ticks": ""
            },
            "type": "contourcarpet"
           }
          ],
          "heatmap": [
           {
            "colorbar": {
             "outlinewidth": 0,
             "ticks": ""
            },
            "colorscale": [
             [
              0,
              "#0d0887"
             ],
             [
              0.1111111111111111,
              "#46039f"
             ],
             [
              0.2222222222222222,
              "#7201a8"
             ],
             [
              0.3333333333333333,
              "#9c179e"
             ],
             [
              0.4444444444444444,
              "#bd3786"
             ],
             [
              0.5555555555555556,
              "#d8576b"
             ],
             [
              0.6666666666666666,
              "#ed7953"
             ],
             [
              0.7777777777777778,
              "#fb9f3a"
             ],
             [
              0.8888888888888888,
              "#fdca26"
             ],
             [
              1,
              "#f0f921"
             ]
            ],
            "type": "heatmap"
           }
          ],
          "heatmapgl": [
           {
            "colorbar": {
             "outlinewidth": 0,
             "ticks": ""
            },
            "colorscale": [
             [
              0,
              "#0d0887"
             ],
             [
              0.1111111111111111,
              "#46039f"
             ],
             [
              0.2222222222222222,
              "#7201a8"
             ],
             [
              0.3333333333333333,
              "#9c179e"
             ],
             [
              0.4444444444444444,
              "#bd3786"
             ],
             [
              0.5555555555555556,
              "#d8576b"
             ],
             [
              0.6666666666666666,
              "#ed7953"
             ],
             [
              0.7777777777777778,
              "#fb9f3a"
             ],
             [
              0.8888888888888888,
              "#fdca26"
             ],
             [
              1,
              "#f0f921"
             ]
            ],
            "type": "heatmapgl"
           }
          ],
          "histogram": [
           {
            "marker": {
             "pattern": {
              "fillmode": "overlay",
              "size": 10,
              "solidity": 0.2
             }
            },
            "type": "histogram"
           }
          ],
          "histogram2d": [
           {
            "colorbar": {
             "outlinewidth": 0,
             "ticks": ""
            },
            "colorscale": [
             [
              0,
              "#0d0887"
             ],
             [
              0.1111111111111111,
              "#46039f"
             ],
             [
              0.2222222222222222,
              "#7201a8"
             ],
             [
              0.3333333333333333,
              "#9c179e"
             ],
             [
              0.4444444444444444,
              "#bd3786"
             ],
             [
              0.5555555555555556,
              "#d8576b"
             ],
             [
              0.6666666666666666,
              "#ed7953"
             ],
             [
              0.7777777777777778,
              "#fb9f3a"
             ],
             [
              0.8888888888888888,
              "#fdca26"
             ],
             [
              1,
              "#f0f921"
             ]
            ],
            "type": "histogram2d"
           }
          ],
          "histogram2dcontour": [
           {
            "colorbar": {
             "outlinewidth": 0,
             "ticks": ""
            },
            "colorscale": [
             [
              0,
              "#0d0887"
             ],
             [
              0.1111111111111111,
              "#46039f"
             ],
             [
              0.2222222222222222,
              "#7201a8"
             ],
             [
              0.3333333333333333,
              "#9c179e"
             ],
             [
              0.4444444444444444,
              "#bd3786"
             ],
             [
              0.5555555555555556,
              "#d8576b"
             ],
             [
              0.6666666666666666,
              "#ed7953"
             ],
             [
              0.7777777777777778,
              "#fb9f3a"
             ],
             [
              0.8888888888888888,
              "#fdca26"
             ],
             [
              1,
              "#f0f921"
             ]
            ],
            "type": "histogram2dcontour"
           }
          ],
          "mesh3d": [
           {
            "colorbar": {
             "outlinewidth": 0,
             "ticks": ""
            },
            "type": "mesh3d"
           }
          ],
          "parcoords": [
           {
            "line": {
             "colorbar": {
              "outlinewidth": 0,
              "ticks": ""
             }
            },
            "type": "parcoords"
           }
          ],
          "pie": [
           {
            "automargin": true,
            "type": "pie"
           }
          ],
          "scatter": [
           {
            "fillpattern": {
             "fillmode": "overlay",
             "size": 10,
             "solidity": 0.2
            },
            "type": "scatter"
           }
          ],
          "scatter3d": [
           {
            "line": {
             "colorbar": {
              "outlinewidth": 0,
              "ticks": ""
             }
            },
            "marker": {
             "colorbar": {
              "outlinewidth": 0,
              "ticks": ""
             }
            },
            "type": "scatter3d"
           }
          ],
          "scattercarpet": [
           {
            "marker": {
             "colorbar": {
              "outlinewidth": 0,
              "ticks": ""
             }
            },
            "type": "scattercarpet"
           }
          ],
          "scattergeo": [
           {
            "marker": {
             "colorbar": {
              "outlinewidth": 0,
              "ticks": ""
             }
            },
            "type": "scattergeo"
           }
          ],
          "scattergl": [
           {
            "marker": {
             "colorbar": {
              "outlinewidth": 0,
              "ticks": ""
             }
            },
            "type": "scattergl"
           }
          ],
          "scattermapbox": [
           {
            "marker": {
             "colorbar": {
              "outlinewidth": 0,
              "ticks": ""
             }
            },
            "type": "scattermapbox"
           }
          ],
          "scatterpolar": [
           {
            "marker": {
             "colorbar": {
              "outlinewidth": 0,
              "ticks": ""
             }
            },
            "type": "scatterpolar"
           }
          ],
          "scatterpolargl": [
           {
            "marker": {
             "colorbar": {
              "outlinewidth": 0,
              "ticks": ""
             }
            },
            "type": "scatterpolargl"
           }
          ],
          "scatterternary": [
           {
            "marker": {
             "colorbar": {
              "outlinewidth": 0,
              "ticks": ""
             }
            },
            "type": "scatterternary"
           }
          ],
          "surface": [
           {
            "colorbar": {
             "outlinewidth": 0,
             "ticks": ""
            },
            "colorscale": [
             [
              0,
              "#0d0887"
             ],
             [
              0.1111111111111111,
              "#46039f"
             ],
             [
              0.2222222222222222,
              "#7201a8"
             ],
             [
              0.3333333333333333,
              "#9c179e"
             ],
             [
              0.4444444444444444,
              "#bd3786"
             ],
             [
              0.5555555555555556,
              "#d8576b"
             ],
             [
              0.6666666666666666,
              "#ed7953"
             ],
             [
              0.7777777777777778,
              "#fb9f3a"
             ],
             [
              0.8888888888888888,
              "#fdca26"
             ],
             [
              1,
              "#f0f921"
             ]
            ],
            "type": "surface"
           }
          ],
          "table": [
           {
            "cells": {
             "fill": {
              "color": "#EBF0F8"
             },
             "line": {
              "color": "white"
             }
            },
            "header": {
             "fill": {
              "color": "#C8D4E3"
             },
             "line": {
              "color": "white"
             }
            },
            "type": "table"
           }
          ]
         },
         "layout": {
          "annotationdefaults": {
           "arrowcolor": "#2a3f5f",
           "arrowhead": 0,
           "arrowwidth": 1
          },
          "autotypenumbers": "strict",
          "coloraxis": {
           "colorbar": {
            "outlinewidth": 0,
            "ticks": ""
           }
          },
          "colorscale": {
           "diverging": [
            [
             0,
             "#8e0152"
            ],
            [
             0.1,
             "#c51b7d"
            ],
            [
             0.2,
             "#de77ae"
            ],
            [
             0.3,
             "#f1b6da"
            ],
            [
             0.4,
             "#fde0ef"
            ],
            [
             0.5,
             "#f7f7f7"
            ],
            [
             0.6,
             "#e6f5d0"
            ],
            [
             0.7,
             "#b8e186"
            ],
            [
             0.8,
             "#7fbc41"
            ],
            [
             0.9,
             "#4d9221"
            ],
            [
             1,
             "#276419"
            ]
           ],
           "sequential": [
            [
             0,
             "#0d0887"
            ],
            [
             0.1111111111111111,
             "#46039f"
            ],
            [
             0.2222222222222222,
             "#7201a8"
            ],
            [
             0.3333333333333333,
             "#9c179e"
            ],
            [
             0.4444444444444444,
             "#bd3786"
            ],
            [
             0.5555555555555556,
             "#d8576b"
            ],
            [
             0.6666666666666666,
             "#ed7953"
            ],
            [
             0.7777777777777778,
             "#fb9f3a"
            ],
            [
             0.8888888888888888,
             "#fdca26"
            ],
            [
             1,
             "#f0f921"
            ]
           ],
           "sequentialminus": [
            [
             0,
             "#0d0887"
            ],
            [
             0.1111111111111111,
             "#46039f"
            ],
            [
             0.2222222222222222,
             "#7201a8"
            ],
            [
             0.3333333333333333,
             "#9c179e"
            ],
            [
             0.4444444444444444,
             "#bd3786"
            ],
            [
             0.5555555555555556,
             "#d8576b"
            ],
            [
             0.6666666666666666,
             "#ed7953"
            ],
            [
             0.7777777777777778,
             "#fb9f3a"
            ],
            [
             0.8888888888888888,
             "#fdca26"
            ],
            [
             1,
             "#f0f921"
            ]
           ]
          },
          "colorway": [
           "#636efa",
           "#EF553B",
           "#00cc96",
           "#ab63fa",
           "#FFA15A",
           "#19d3f3",
           "#FF6692",
           "#B6E880",
           "#FF97FF",
           "#FECB52"
          ],
          "font": {
           "color": "#2a3f5f"
          },
          "geo": {
           "bgcolor": "white",
           "lakecolor": "white",
           "landcolor": "#E5ECF6",
           "showlakes": true,
           "showland": true,
           "subunitcolor": "white"
          },
          "hoverlabel": {
           "align": "left"
          },
          "hovermode": "closest",
          "mapbox": {
           "style": "light"
          },
          "paper_bgcolor": "white",
          "plot_bgcolor": "#E5ECF6",
          "polar": {
           "angularaxis": {
            "gridcolor": "white",
            "linecolor": "white",
            "ticks": ""
           },
           "bgcolor": "#E5ECF6",
           "radialaxis": {
            "gridcolor": "white",
            "linecolor": "white",
            "ticks": ""
           }
          },
          "scene": {
           "xaxis": {
            "backgroundcolor": "#E5ECF6",
            "gridcolor": "white",
            "gridwidth": 2,
            "linecolor": "white",
            "showbackground": true,
            "ticks": "",
            "zerolinecolor": "white"
           },
           "yaxis": {
            "backgroundcolor": "#E5ECF6",
            "gridcolor": "white",
            "gridwidth": 2,
            "linecolor": "white",
            "showbackground": true,
            "ticks": "",
            "zerolinecolor": "white"
           },
           "zaxis": {
            "backgroundcolor": "#E5ECF6",
            "gridcolor": "white",
            "gridwidth": 2,
            "linecolor": "white",
            "showbackground": true,
            "ticks": "",
            "zerolinecolor": "white"
           }
          },
          "shapedefaults": {
           "line": {
            "color": "#2a3f5f"
           }
          },
          "ternary": {
           "aaxis": {
            "gridcolor": "white",
            "linecolor": "white",
            "ticks": ""
           },
           "baxis": {
            "gridcolor": "white",
            "linecolor": "white",
            "ticks": ""
           },
           "bgcolor": "#E5ECF6",
           "caxis": {
            "gridcolor": "white",
            "linecolor": "white",
            "ticks": ""
           }
          },
          "title": {
           "x": 0.05
          },
          "xaxis": {
           "automargin": true,
           "gridcolor": "white",
           "linecolor": "white",
           "ticks": "",
           "title": {
            "standoff": 15
           },
           "zerolinecolor": "white",
           "zerolinewidth": 2
          },
          "yaxis": {
           "automargin": true,
           "gridcolor": "white",
           "linecolor": "white",
           "ticks": "",
           "title": {
            "standoff": 15
           },
           "zerolinecolor": "white",
           "zerolinewidth": 2
          }
         }
        },
        "title": {
         "text": "Barplot of (Standardized) State Frequencies",
         "x": 0.5,
         "xanchor": "center",
         "y": 0.9,
         "yanchor": "top"
        },
        "xaxis": {
         "title": {
          "text": "State"
         }
        },
        "yaxis": {
         "title": {
          "text": "Frequency"
         }
        }
       }
      }
     },
     "metadata": {},
     "output_type": "display_data"
    },
    {
     "data": {
      "application/vnd.plotly.v1+json": {
       "config": {
        "plotlyServerURL": "https://plot.ly"
       },
       "data": [
        {
         "hovertext": [
          "",
          "a",
          "b",
          "c",
          "d",
          "e",
          "ab",
          "ac",
          "ad",
          "ae",
          "bc",
          "bd",
          "be",
          "cd",
          "ce",
          "de",
          "abc",
          "abd",
          "abe",
          "acd",
          "ace",
          "ade",
          "bcd",
          "bce",
          "bde",
          "cde",
          "abcd",
          "abce",
          "abde",
          "acde",
          "bcde",
          "abcde"
         ],
         "marker": {
          "color": [
           "green",
           "lightgreen",
           "lightgreen",
           "green",
           "lightgreen",
           "green",
           "lightgreen",
           "lightgreen",
           "lightgreen",
           "lightgreen",
           "lightgreen",
           "lightgreen",
           "lightgreen",
           "green",
           "green",
           "lightgreen",
           "lightgreen",
           "lightgreen",
           "lightgreen",
           "green",
           "lightgreen",
           "lightgreen",
           "green",
           "lightgreen",
           "lightgreen",
           "green",
           "green",
           "lightgreen",
           "lightgreen",
           "green",
           "green",
           "green",
           "lightgreen",
           "lightgreen"
          ]
         },
         "type": "bar",
         "x": [
          "",
          "a",
          "b",
          "c",
          "d",
          "e",
          "ab",
          "ac",
          "ad",
          "ae",
          "bc",
          "bd",
          "be",
          "cd",
          "ce",
          "de",
          "abc",
          "abd",
          "abe",
          "acd",
          "ace",
          "ade",
          "bcd",
          "bce",
          "bde",
          "cde",
          "abcd",
          "abce",
          "abde",
          "acde",
          "bcde",
          "abcde"
         ],
         "y": [
          0.9564226865768433,
          -0.9134373664855957,
          -0.8489594459533691,
          1.4292608499526978,
          -0.6340330243110657,
          1.3217976093292236,
          -1.0423932075500488,
          -0.39761391282081604,
          -0.5695551037788391,
          -0.9349300265312195,
          -0.4835844933986664,
          -0.7844815254211426,
          -0.8274667859077454,
          1.9020990133285522,
          1.5367240905761719,
          -0.7629888653755188,
          -0.6770182847976685,
          -0.9349300265312195,
          -1.0423932075500488,
          1.106871247291565,
          -0.5910477042198181,
          -0.720003604888916,
          1.1713491678237915,
          -0.4835844933986664,
          -0.9349300265312195,
          0.8704521059989929,
          0.977915346622467,
          -0.6770182847976685,
          -0.8059741854667664,
          0.999407947063446,
          1.6012020111083984,
          1.1928417682647705
         ]
        }
       ],
       "layout": {
        "annotations": [
         {
          "bgcolor": "rgba(255, 255, 255, 0.95)",
          "font": {
           "color": "rgb(37,37,37)",
           "size": 14
          },
          "showarrow": false,
          "text": "Optimal Threshold vs. Ground truth",
          "x": 0.5,
          "xref": "paper",
          "y": 1.1,
          "yref": "paper"
         },
         {
          "showarrow": false,
          "text": "This plot shows the (standardized) state frequencies used as input to the regression module. \nBars are colored based on TP (green), TN, (light green), FP (red), and FN (salmon).",
          "x": 0.5,
          "xref": "paper",
          "y": -0.35,
          "yref": "paper"
         }
        ],
        "autosize": true,
        "margin": {
         "b": 90,
         "l": 50,
         "pad": 10,
         "r": 50,
         "t": 90
        },
        "shapes": [
         {
          "line": {
           "color": "blue",
           "width": 2
          },
          "type": "line",
          "x0": 0,
          "x1": 1,
          "xref": "paper",
          "y0": 1,
          "y1": 1,
          "yref": "y"
         }
        ],
        "template": {
         "data": {
          "bar": [
           {
            "error_x": {
             "color": "#2a3f5f"
            },
            "error_y": {
             "color": "#2a3f5f"
            },
            "marker": {
             "line": {
              "color": "#E5ECF6",
              "width": 0.5
             },
             "pattern": {
              "fillmode": "overlay",
              "size": 10,
              "solidity": 0.2
             }
            },
            "type": "bar"
           }
          ],
          "barpolar": [
           {
            "marker": {
             "line": {
              "color": "#E5ECF6",
              "width": 0.5
             },
             "pattern": {
              "fillmode": "overlay",
              "size": 10,
              "solidity": 0.2
             }
            },
            "type": "barpolar"
           }
          ],
          "carpet": [
           {
            "aaxis": {
             "endlinecolor": "#2a3f5f",
             "gridcolor": "white",
             "linecolor": "white",
             "minorgridcolor": "white",
             "startlinecolor": "#2a3f5f"
            },
            "baxis": {
             "endlinecolor": "#2a3f5f",
             "gridcolor": "white",
             "linecolor": "white",
             "minorgridcolor": "white",
             "startlinecolor": "#2a3f5f"
            },
            "type": "carpet"
           }
          ],
          "choropleth": [
           {
            "colorbar": {
             "outlinewidth": 0,
             "ticks": ""
            },
            "type": "choropleth"
           }
          ],
          "contour": [
           {
            "colorbar": {
             "outlinewidth": 0,
             "ticks": ""
            },
            "colorscale": [
             [
              0,
              "#0d0887"
             ],
             [
              0.1111111111111111,
              "#46039f"
             ],
             [
              0.2222222222222222,
              "#7201a8"
             ],
             [
              0.3333333333333333,
              "#9c179e"
             ],
             [
              0.4444444444444444,
              "#bd3786"
             ],
             [
              0.5555555555555556,
              "#d8576b"
             ],
             [
              0.6666666666666666,
              "#ed7953"
             ],
             [
              0.7777777777777778,
              "#fb9f3a"
             ],
             [
              0.8888888888888888,
              "#fdca26"
             ],
             [
              1,
              "#f0f921"
             ]
            ],
            "type": "contour"
           }
          ],
          "contourcarpet": [
           {
            "colorbar": {
             "outlinewidth": 0,
             "ticks": ""
            },
            "type": "contourcarpet"
           }
          ],
          "heatmap": [
           {
            "colorbar": {
             "outlinewidth": 0,
             "ticks": ""
            },
            "colorscale": [
             [
              0,
              "#0d0887"
             ],
             [
              0.1111111111111111,
              "#46039f"
             ],
             [
              0.2222222222222222,
              "#7201a8"
             ],
             [
              0.3333333333333333,
              "#9c179e"
             ],
             [
              0.4444444444444444,
              "#bd3786"
             ],
             [
              0.5555555555555556,
              "#d8576b"
             ],
             [
              0.6666666666666666,
              "#ed7953"
             ],
             [
              0.7777777777777778,
              "#fb9f3a"
             ],
             [
              0.8888888888888888,
              "#fdca26"
             ],
             [
              1,
              "#f0f921"
             ]
            ],
            "type": "heatmap"
           }
          ],
          "heatmapgl": [
           {
            "colorbar": {
             "outlinewidth": 0,
             "ticks": ""
            },
            "colorscale": [
             [
              0,
              "#0d0887"
             ],
             [
              0.1111111111111111,
              "#46039f"
             ],
             [
              0.2222222222222222,
              "#7201a8"
             ],
             [
              0.3333333333333333,
              "#9c179e"
             ],
             [
              0.4444444444444444,
              "#bd3786"
             ],
             [
              0.5555555555555556,
              "#d8576b"
             ],
             [
              0.6666666666666666,
              "#ed7953"
             ],
             [
              0.7777777777777778,
              "#fb9f3a"
             ],
             [
              0.8888888888888888,
              "#fdca26"
             ],
             [
              1,
              "#f0f921"
             ]
            ],
            "type": "heatmapgl"
           }
          ],
          "histogram": [
           {
            "marker": {
             "pattern": {
              "fillmode": "overlay",
              "size": 10,
              "solidity": 0.2
             }
            },
            "type": "histogram"
           }
          ],
          "histogram2d": [
           {
            "colorbar": {
             "outlinewidth": 0,
             "ticks": ""
            },
            "colorscale": [
             [
              0,
              "#0d0887"
             ],
             [
              0.1111111111111111,
              "#46039f"
             ],
             [
              0.2222222222222222,
              "#7201a8"
             ],
             [
              0.3333333333333333,
              "#9c179e"
             ],
             [
              0.4444444444444444,
              "#bd3786"
             ],
             [
              0.5555555555555556,
              "#d8576b"
             ],
             [
              0.6666666666666666,
              "#ed7953"
             ],
             [
              0.7777777777777778,
              "#fb9f3a"
             ],
             [
              0.8888888888888888,
              "#fdca26"
             ],
             [
              1,
              "#f0f921"
             ]
            ],
            "type": "histogram2d"
           }
          ],
          "histogram2dcontour": [
           {
            "colorbar": {
             "outlinewidth": 0,
             "ticks": ""
            },
            "colorscale": [
             [
              0,
              "#0d0887"
             ],
             [
              0.1111111111111111,
              "#46039f"
             ],
             [
              0.2222222222222222,
              "#7201a8"
             ],
             [
              0.3333333333333333,
              "#9c179e"
             ],
             [
              0.4444444444444444,
              "#bd3786"
             ],
             [
              0.5555555555555556,
              "#d8576b"
             ],
             [
              0.6666666666666666,
              "#ed7953"
             ],
             [
              0.7777777777777778,
              "#fb9f3a"
             ],
             [
              0.8888888888888888,
              "#fdca26"
             ],
             [
              1,
              "#f0f921"
             ]
            ],
            "type": "histogram2dcontour"
           }
          ],
          "mesh3d": [
           {
            "colorbar": {
             "outlinewidth": 0,
             "ticks": ""
            },
            "type": "mesh3d"
           }
          ],
          "parcoords": [
           {
            "line": {
             "colorbar": {
              "outlinewidth": 0,
              "ticks": ""
             }
            },
            "type": "parcoords"
           }
          ],
          "pie": [
           {
            "automargin": true,
            "type": "pie"
           }
          ],
          "scatter": [
           {
            "fillpattern": {
             "fillmode": "overlay",
             "size": 10,
             "solidity": 0.2
            },
            "type": "scatter"
           }
          ],
          "scatter3d": [
           {
            "line": {
             "colorbar": {
              "outlinewidth": 0,
              "ticks": ""
             }
            },
            "marker": {
             "colorbar": {
              "outlinewidth": 0,
              "ticks": ""
             }
            },
            "type": "scatter3d"
           }
          ],
          "scattercarpet": [
           {
            "marker": {
             "colorbar": {
              "outlinewidth": 0,
              "ticks": ""
             }
            },
            "type": "scattercarpet"
           }
          ],
          "scattergeo": [
           {
            "marker": {
             "colorbar": {
              "outlinewidth": 0,
              "ticks": ""
             }
            },
            "type": "scattergeo"
           }
          ],
          "scattergl": [
           {
            "marker": {
             "colorbar": {
              "outlinewidth": 0,
              "ticks": ""
             }
            },
            "type": "scattergl"
           }
          ],
          "scattermapbox": [
           {
            "marker": {
             "colorbar": {
              "outlinewidth": 0,
              "ticks": ""
             }
            },
            "type": "scattermapbox"
           }
          ],
          "scatterpolar": [
           {
            "marker": {
             "colorbar": {
              "outlinewidth": 0,
              "ticks": ""
             }
            },
            "type": "scatterpolar"
           }
          ],
          "scatterpolargl": [
           {
            "marker": {
             "colorbar": {
              "outlinewidth": 0,
              "ticks": ""
             }
            },
            "type": "scatterpolargl"
           }
          ],
          "scatterternary": [
           {
            "marker": {
             "colorbar": {
              "outlinewidth": 0,
              "ticks": ""
             }
            },
            "type": "scatterternary"
           }
          ],
          "surface": [
           {
            "colorbar": {
             "outlinewidth": 0,
             "ticks": ""
            },
            "colorscale": [
             [
              0,
              "#0d0887"
             ],
             [
              0.1111111111111111,
              "#46039f"
             ],
             [
              0.2222222222222222,
              "#7201a8"
             ],
             [
              0.3333333333333333,
              "#9c179e"
             ],
             [
              0.4444444444444444,
              "#bd3786"
             ],
             [
              0.5555555555555556,
              "#d8576b"
             ],
             [
              0.6666666666666666,
              "#ed7953"
             ],
             [
              0.7777777777777778,
              "#fb9f3a"
             ],
             [
              0.8888888888888888,
              "#fdca26"
             ],
             [
              1,
              "#f0f921"
             ]
            ],
            "type": "surface"
           }
          ],
          "table": [
           {
            "cells": {
             "fill": {
              "color": "#EBF0F8"
             },
             "line": {
              "color": "white"
             }
            },
            "header": {
             "fill": {
              "color": "#C8D4E3"
             },
             "line": {
              "color": "white"
             }
            },
            "type": "table"
           }
          ]
         },
         "layout": {
          "annotationdefaults": {
           "arrowcolor": "#2a3f5f",
           "arrowhead": 0,
           "arrowwidth": 1
          },
          "autotypenumbers": "strict",
          "coloraxis": {
           "colorbar": {
            "outlinewidth": 0,
            "ticks": ""
           }
          },
          "colorscale": {
           "diverging": [
            [
             0,
             "#8e0152"
            ],
            [
             0.1,
             "#c51b7d"
            ],
            [
             0.2,
             "#de77ae"
            ],
            [
             0.3,
             "#f1b6da"
            ],
            [
             0.4,
             "#fde0ef"
            ],
            [
             0.5,
             "#f7f7f7"
            ],
            [
             0.6,
             "#e6f5d0"
            ],
            [
             0.7,
             "#b8e186"
            ],
            [
             0.8,
             "#7fbc41"
            ],
            [
             0.9,
             "#4d9221"
            ],
            [
             1,
             "#276419"
            ]
           ],
           "sequential": [
            [
             0,
             "#0d0887"
            ],
            [
             0.1111111111111111,
             "#46039f"
            ],
            [
             0.2222222222222222,
             "#7201a8"
            ],
            [
             0.3333333333333333,
             "#9c179e"
            ],
            [
             0.4444444444444444,
             "#bd3786"
            ],
            [
             0.5555555555555556,
             "#d8576b"
            ],
            [
             0.6666666666666666,
             "#ed7953"
            ],
            [
             0.7777777777777778,
             "#fb9f3a"
            ],
            [
             0.8888888888888888,
             "#fdca26"
            ],
            [
             1,
             "#f0f921"
            ]
           ],
           "sequentialminus": [
            [
             0,
             "#0d0887"
            ],
            [
             0.1111111111111111,
             "#46039f"
            ],
            [
             0.2222222222222222,
             "#7201a8"
            ],
            [
             0.3333333333333333,
             "#9c179e"
            ],
            [
             0.4444444444444444,
             "#bd3786"
            ],
            [
             0.5555555555555556,
             "#d8576b"
            ],
            [
             0.6666666666666666,
             "#ed7953"
            ],
            [
             0.7777777777777778,
             "#fb9f3a"
            ],
            [
             0.8888888888888888,
             "#fdca26"
            ],
            [
             1,
             "#f0f921"
            ]
           ]
          },
          "colorway": [
           "#636efa",
           "#EF553B",
           "#00cc96",
           "#ab63fa",
           "#FFA15A",
           "#19d3f3",
           "#FF6692",
           "#B6E880",
           "#FF97FF",
           "#FECB52"
          ],
          "font": {
           "color": "#2a3f5f"
          },
          "geo": {
           "bgcolor": "white",
           "lakecolor": "white",
           "landcolor": "#E5ECF6",
           "showlakes": true,
           "showland": true,
           "subunitcolor": "white"
          },
          "hoverlabel": {
           "align": "left"
          },
          "hovermode": "closest",
          "mapbox": {
           "style": "light"
          },
          "paper_bgcolor": "white",
          "plot_bgcolor": "#E5ECF6",
          "polar": {
           "angularaxis": {
            "gridcolor": "white",
            "linecolor": "white",
            "ticks": ""
           },
           "bgcolor": "#E5ECF6",
           "radialaxis": {
            "gridcolor": "white",
            "linecolor": "white",
            "ticks": ""
           }
          },
          "scene": {
           "xaxis": {
            "backgroundcolor": "#E5ECF6",
            "gridcolor": "white",
            "gridwidth": 2,
            "linecolor": "white",
            "showbackground": true,
            "ticks": "",
            "zerolinecolor": "white"
           },
           "yaxis": {
            "backgroundcolor": "#E5ECF6",
            "gridcolor": "white",
            "gridwidth": 2,
            "linecolor": "white",
            "showbackground": true,
            "ticks": "",
            "zerolinecolor": "white"
           },
           "zaxis": {
            "backgroundcolor": "#E5ECF6",
            "gridcolor": "white",
            "gridwidth": 2,
            "linecolor": "white",
            "showbackground": true,
            "ticks": "",
            "zerolinecolor": "white"
           }
          },
          "shapedefaults": {
           "line": {
            "color": "#2a3f5f"
           }
          },
          "ternary": {
           "aaxis": {
            "gridcolor": "white",
            "linecolor": "white",
            "ticks": ""
           },
           "baxis": {
            "gridcolor": "white",
            "linecolor": "white",
            "ticks": ""
           },
           "bgcolor": "#E5ECF6",
           "caxis": {
            "gridcolor": "white",
            "linecolor": "white",
            "ticks": ""
           }
          },
          "title": {
           "x": 0.05
          },
          "xaxis": {
           "automargin": true,
           "gridcolor": "white",
           "linecolor": "white",
           "ticks": "",
           "title": {
            "standoff": 15
           },
           "zerolinecolor": "white",
           "zerolinewidth": 2
          },
          "yaxis": {
           "automargin": true,
           "gridcolor": "white",
           "linecolor": "white",
           "ticks": "",
           "title": {
            "standoff": 15
           },
           "zerolinecolor": "white",
           "zerolinewidth": 2
          }
         }
        },
        "title": {
         "text": "Barplot of (Standardized) State Frequencies",
         "x": 0.5,
         "xanchor": "center",
         "y": 0.9,
         "yanchor": "top"
        },
        "xaxis": {
         "title": {
          "text": "State"
         }
        },
        "yaxis": {
         "title": {
          "text": "Frequency"
         }
        }
       }
      }
     },
     "metadata": {},
     "output_type": "display_data"
    },
    {
     "name": "stdout",
     "output_type": "stream",
     "text": [
      "Symmetric Difference of result vs ground truth: \n",
      "IITA v1    -> 0 \n",
      "Prediction -> 0 \n",
      "(Naive benchmark -> 0)\n",
      "Prediction is quasi-ordinal: True\n",
      "Prediction is union-closed: True\n"
     ]
    }
   ],
   "source": [
    "idx = random.randint(0, len(DATASET)-1) \n",
    "beta = 0.13 # abs(np.random.normal(0.12, 0.06))  \n",
    "eta = 0.11 #0.05 # abs(np.random.normal(0.12, 0.06))  \n",
    "samples_size = 1616 #100 # random.randint(80, 300) \n",
    "factor=0.4 # factor for calculating std of normal distributions for sampling beta/eta from individually for each item (choose None for fixed beta/eta for all items)\n",
    "print(f\"Index: {idx}, Beta: {beta}, Eta: {eta}, Samples size: {samples_size}\")\n",
    "\n",
    "d_iita, d_dl, quasi_ordinal, union_closed, _, _, d_naiv = DATASET.test_item(idx, model, regressor, samples_size=samples_size, beta=beta, eta=eta, plot=\"standardized\", factor=factor)   ### plot \"standardized\" or \"raw\"\n",
    "print(f\"Symmetric Difference of result vs ground truth: \\nIITA v1    -> {d_iita} \\nPrediction -> {d_dl} \\n(Naive benchmark -> {d_naiv})\")\n",
    "print(f\"Prediction is quasi-ordinal: {quasi_ordinal}\")\n",
    "print(f\"Prediction is union-closed: {union_closed}\")"
   ]
  },
  {
   "cell_type": "markdown",
   "metadata": {},
   "source": [
    "### Evaluation (test phase)"
   ]
  },
  {
   "cell_type": "code",
   "execution_count": 32,
   "metadata": {},
   "outputs": [
    {
     "name": "stdout",
     "output_type": "stream",
     "text": [
      "Evaluation conditions: [(0.05, 0.05), (0.05, 0.1), (0.1, 0.05), (0.05, 0.15), (0.1, 0.1), (0.15, 0.05), (0.1, 0.15), (0.15, 0.1), (0.15, 0.15)] \n",
      "\n"
     ]
    },
    {
     "name": "stderr",
     "output_type": "stream",
     "text": [
      "n100_b0.05_e0.05: 100%|██████████| 100/100 [00:04<00:00, 22.50it/s]\n"
     ]
    },
    {
     "name": "stdout",
     "output_type": "stream",
     "text": [
      "N_samples: 100, Beta: 0.05, Eta: 0.05\n",
      "Average symmetric difference IITA: 1.02, (std 1.630828010551695)\n",
      "Average symmetric difference DL: 1.16 (std 1.5278743403827424)\n",
      "Portion of predicted knowledge structures, which are valid quasi-ordinal spaces: 0.84\n",
      "  valid spaces (union-closed): 0.91 \n",
      "\n"
     ]
    },
    {
     "name": "stderr",
     "output_type": "stream",
     "text": [
      "n100_b0.05_e0.1: 100%|██████████| 100/100 [00:04<00:00, 21.14it/s]\n"
     ]
    },
    {
     "name": "stdout",
     "output_type": "stream",
     "text": [
      "N_samples: 100, Beta: 0.05, Eta: 0.1\n",
      "Average symmetric difference IITA: 1.95, (std 2.5391927851189244)\n",
      "Average symmetric difference DL: 1.35 (std 1.5256146302392357)\n",
      "Portion of predicted knowledge structures, which are valid quasi-ordinal spaces: 0.85\n",
      "  valid spaces (union-closed): 0.92 \n",
      "\n"
     ]
    },
    {
     "name": "stderr",
     "output_type": "stream",
     "text": [
      "n100_b0.1_e0.05: 100%|██████████| 100/100 [00:06<00:00, 15.03it/s]\n"
     ]
    },
    {
     "name": "stdout",
     "output_type": "stream",
     "text": [
      "N_samples: 100, Beta: 0.1, Eta: 0.05\n",
      "Average symmetric difference IITA: 1.54, (std 2.15137165547936)\n",
      "Average symmetric difference DL: 1.28 (std 1.4358272876638052)\n",
      "Portion of predicted knowledge structures, which are valid quasi-ordinal spaces: 0.86\n",
      "  valid spaces (union-closed): 0.93 \n",
      "\n"
     ]
    },
    {
     "name": "stderr",
     "output_type": "stream",
     "text": [
      "n100_b0.05_e0.15: 100%|██████████| 100/100 [00:07<00:00, 13.46it/s]\n"
     ]
    },
    {
     "name": "stdout",
     "output_type": "stream",
     "text": [
      "N_samples: 100, Beta: 0.05, Eta: 0.15\n",
      "Average symmetric difference IITA: 2.09, (std 2.0644369692485167)\n",
      "Average symmetric difference DL: 1.67 (std 1.5430813329180026)\n",
      "Portion of predicted knowledge structures, which are valid quasi-ordinal spaces: 0.83\n",
      "  valid spaces (union-closed): 0.91 \n",
      "\n"
     ]
    },
    {
     "name": "stderr",
     "output_type": "stream",
     "text": [
      "n100_b0.1_e0.1: 100%|██████████| 100/100 [00:06<00:00, 14.82it/s]\n"
     ]
    },
    {
     "name": "stdout",
     "output_type": "stream",
     "text": [
      "N_samples: 100, Beta: 0.1, Eta: 0.1\n",
      "Average symmetric difference IITA: 2.03, (std 1.8517829246431667)\n",
      "Average symmetric difference DL: 1.39 (std 1.4825316185498372)\n",
      "Portion of predicted knowledge structures, which are valid quasi-ordinal spaces: 0.79\n",
      "  valid spaces (union-closed): 0.91 \n",
      "\n"
     ]
    },
    {
     "name": "stderr",
     "output_type": "stream",
     "text": [
      "n100_b0.15_e0.05: 100%|██████████| 100/100 [00:06<00:00, 15.83it/s]\n"
     ]
    },
    {
     "name": "stdout",
     "output_type": "stream",
     "text": [
      "N_samples: 100, Beta: 0.15, Eta: 0.05\n",
      "Average symmetric difference IITA: 1.98, (std 2.1816507511515217)\n",
      "Average symmetric difference DL: 1.4 (std 1.3564659966250536)\n",
      "Portion of predicted knowledge structures, which are valid quasi-ordinal spaces: 0.86\n",
      "  valid spaces (union-closed): 0.93 \n",
      "\n"
     ]
    },
    {
     "name": "stderr",
     "output_type": "stream",
     "text": [
      "n100_b0.1_e0.15: 100%|██████████| 100/100 [00:06<00:00, 14.79it/s]\n"
     ]
    },
    {
     "name": "stdout",
     "output_type": "stream",
     "text": [
      "N_samples: 100, Beta: 0.1, Eta: 0.15\n",
      "Average symmetric difference IITA: 3.21, (std 2.9164876135516162)\n",
      "Average symmetric difference DL: 1.81 (std 1.6534509366775898)\n",
      "Portion of predicted knowledge structures, which are valid quasi-ordinal spaces: 0.75\n",
      "  valid spaces (union-closed): 0.83 \n",
      "\n"
     ]
    },
    {
     "name": "stderr",
     "output_type": "stream",
     "text": [
      "n100_b0.15_e0.1: 100%|██████████| 100/100 [00:06<00:00, 15.89it/s]\n"
     ]
    },
    {
     "name": "stdout",
     "output_type": "stream",
     "text": [
      "N_samples: 100, Beta: 0.15, Eta: 0.1\n",
      "Average symmetric difference IITA: 2.69, (std 2.5911194491956557)\n",
      "Average symmetric difference DL: 2.37 (std 2.0379156017853144)\n",
      "Portion of predicted knowledge structures, which are valid quasi-ordinal spaces: 0.72\n",
      "  valid spaces (union-closed): 0.86 \n",
      "\n"
     ]
    },
    {
     "name": "stderr",
     "output_type": "stream",
     "text": [
      "n100_b0.15_e0.15: 100%|██████████| 100/100 [00:06<00:00, 14.77it/s]\n"
     ]
    },
    {
     "name": "stdout",
     "output_type": "stream",
     "text": [
      "N_samples: 100, Beta: 0.15, Eta: 0.15\n",
      "Average symmetric difference IITA: 3.54, (std 2.833443135127296)\n",
      "Average symmetric difference DL: 2.44 (std 2.065526567246231)\n",
      "Portion of predicted knowledge structures, which are valid quasi-ordinal spaces: 0.69\n",
      "  valid spaces (union-closed): 0.82 \n",
      "\n"
     ]
    },
    {
     "name": "stderr",
     "output_type": "stream",
     "text": [
      "n300_b0.05_e0.05: 100%|██████████| 100/100 [00:07<00:00, 12.96it/s]\n"
     ]
    },
    {
     "name": "stdout",
     "output_type": "stream",
     "text": [
      "N_samples: 300, Beta: 0.05, Eta: 0.05\n",
      "Average symmetric difference IITA: 0.79, (std 1.1857065404222074)\n",
      "Average symmetric difference DL: 0.52 (std 0.7547184905645284)\n",
      "Portion of predicted knowledge structures, which are valid quasi-ordinal spaces: 0.97\n",
      "  valid spaces (union-closed): 0.98 \n",
      "\n"
     ]
    },
    {
     "name": "stderr",
     "output_type": "stream",
     "text": [
      "n300_b0.05_e0.1: 100%|██████████| 100/100 [00:07<00:00, 13.02it/s]\n"
     ]
    },
    {
     "name": "stdout",
     "output_type": "stream",
     "text": [
      "N_samples: 300, Beta: 0.05, Eta: 0.1\n",
      "Average symmetric difference IITA: 0.95, (std 1.5451537140362444)\n",
      "Average symmetric difference DL: 0.52 (std 0.7547184905645283)\n",
      "Portion of predicted knowledge structures, which are valid quasi-ordinal spaces: 0.88\n",
      "  valid spaces (union-closed): 0.93 \n",
      "\n"
     ]
    },
    {
     "name": "stderr",
     "output_type": "stream",
     "text": [
      "n300_b0.1_e0.05: 100%|██████████| 100/100 [00:07<00:00, 13.77it/s]\n"
     ]
    },
    {
     "name": "stdout",
     "output_type": "stream",
     "text": [
      "N_samples: 300, Beta: 0.1, Eta: 0.05\n",
      "Average symmetric difference IITA: 0.83, (std 1.378803829411566)\n",
      "Average symmetric difference DL: 0.67 (std 0.8252878285786117)\n",
      "Portion of predicted knowledge structures, which are valid quasi-ordinal spaces: 0.90\n",
      "  valid spaces (union-closed): 0.96 \n",
      "\n"
     ]
    },
    {
     "name": "stderr",
     "output_type": "stream",
     "text": [
      "n300_b0.05_e0.15: 100%|██████████| 100/100 [00:07<00:00, 12.83it/s]\n"
     ]
    },
    {
     "name": "stdout",
     "output_type": "stream",
     "text": [
      "N_samples: 300, Beta: 0.05, Eta: 0.15\n",
      "Average symmetric difference IITA: 1.7, (std 2.414539293529927)\n",
      "Average symmetric difference DL: 0.79 (std 0.840178552451799)\n",
      "Portion of predicted knowledge structures, which are valid quasi-ordinal spaces: 0.82\n",
      "  valid spaces (union-closed): 0.89 \n",
      "\n"
     ]
    },
    {
     "name": "stderr",
     "output_type": "stream",
     "text": [
      "n300_b0.1_e0.1: 100%|██████████| 100/100 [00:08<00:00, 12.31it/s]\n"
     ]
    },
    {
     "name": "stdout",
     "output_type": "stream",
     "text": [
      "N_samples: 300, Beta: 0.1, Eta: 0.1\n",
      "Average symmetric difference IITA: 1.14, (std 1.5685662242952958)\n",
      "Average symmetric difference DL: 0.84 (std 1.1288932633336068)\n",
      "Portion of predicted knowledge structures, which are valid quasi-ordinal spaces: 0.86\n",
      "  valid spaces (union-closed): 0.92 \n",
      "\n"
     ]
    },
    {
     "name": "stderr",
     "output_type": "stream",
     "text": [
      "n300_b0.15_e0.05: 100%|██████████| 100/100 [00:08<00:00, 11.96it/s]\n"
     ]
    },
    {
     "name": "stdout",
     "output_type": "stream",
     "text": [
      "N_samples: 300, Beta: 0.15, Eta: 0.05\n",
      "Average symmetric difference IITA: 1.22, (std 1.664812301732541)\n",
      "Average symmetric difference DL: 1.14 (std 1.2249081598226048)\n",
      "Portion of predicted knowledge structures, which are valid quasi-ordinal spaces: 0.91\n",
      "  valid spaces (union-closed): 0.96 \n",
      "\n"
     ]
    },
    {
     "name": "stderr",
     "output_type": "stream",
     "text": [
      "n300_b0.1_e0.15: 100%|██████████| 100/100 [00:08<00:00, 12.18it/s]\n"
     ]
    },
    {
     "name": "stdout",
     "output_type": "stream",
     "text": [
      "N_samples: 300, Beta: 0.1, Eta: 0.15\n",
      "Average symmetric difference IITA: 1.99, (std 2.2693391108426257)\n",
      "Average symmetric difference DL: 1.01 (std 1.2449497981846498)\n",
      "Portion of predicted knowledge structures, which are valid quasi-ordinal spaces: 0.72\n",
      "  valid spaces (union-closed): 0.86 \n",
      "\n"
     ]
    },
    {
     "name": "stderr",
     "output_type": "stream",
     "text": [
      "n300_b0.15_e0.1: 100%|██████████| 100/100 [00:07<00:00, 12.99it/s]\n"
     ]
    },
    {
     "name": "stdout",
     "output_type": "stream",
     "text": [
      "N_samples: 300, Beta: 0.15, Eta: 0.1\n",
      "Average symmetric difference IITA: 2.35, (std 2.8084693339967237)\n",
      "Average symmetric difference DL: 1.32 (std 1.2718490476467714)\n",
      "Portion of predicted knowledge structures, which are valid quasi-ordinal spaces: 0.81\n",
      "  valid spaces (union-closed): 0.88 \n",
      "\n"
     ]
    },
    {
     "name": "stderr",
     "output_type": "stream",
     "text": [
      "n300_b0.15_e0.15: 100%|██████████| 100/100 [00:08<00:00, 12.42it/s]\n"
     ]
    },
    {
     "name": "stdout",
     "output_type": "stream",
     "text": [
      "N_samples: 300, Beta: 0.15, Eta: 0.15\n",
      "Average symmetric difference IITA: 2.55, (std 2.776238462380348)\n",
      "Average symmetric difference DL: 1.59 (std 1.4359317532529183)\n",
      "Portion of predicted knowledge structures, which are valid quasi-ordinal spaces: 0.75\n",
      "  valid spaces (union-closed): 0.87 \n",
      "\n"
     ]
    },
    {
     "name": "stderr",
     "output_type": "stream",
     "text": [
      "n500_b0.05_e0.05: 100%|██████████| 100/100 [00:09<00:00, 10.96it/s]\n"
     ]
    },
    {
     "name": "stdout",
     "output_type": "stream",
     "text": [
      "N_samples: 500, Beta: 0.05, Eta: 0.05\n",
      "Average symmetric difference IITA: 0.59, (std 1.2577360613419653)\n",
      "Average symmetric difference DL: 0.37 (std 0.6269768735766894)\n",
      "Portion of predicted knowledge structures, which are valid quasi-ordinal spaces: 0.96\n",
      "  valid spaces (union-closed): 0.97 \n",
      "\n"
     ]
    },
    {
     "name": "stderr",
     "output_type": "stream",
     "text": [
      "n500_b0.05_e0.1: 100%|██████████| 100/100 [00:08<00:00, 11.17it/s]\n"
     ]
    },
    {
     "name": "stdout",
     "output_type": "stream",
     "text": [
      "N_samples: 500, Beta: 0.05, Eta: 0.1\n",
      "Average symmetric difference IITA: 0.81, (std 1.5792086625902229)\n",
      "Average symmetric difference DL: 0.59 (std 0.8377947242612598)\n",
      "Portion of predicted knowledge structures, which are valid quasi-ordinal spaces: 0.89\n",
      "  valid spaces (union-closed): 0.91 \n",
      "\n"
     ]
    },
    {
     "name": "stderr",
     "output_type": "stream",
     "text": [
      "n500_b0.1_e0.05: 100%|██████████| 100/100 [00:08<00:00, 11.52it/s]\n"
     ]
    },
    {
     "name": "stdout",
     "output_type": "stream",
     "text": [
      "N_samples: 500, Beta: 0.1, Eta: 0.05\n",
      "Average symmetric difference IITA: 0.76, (std 1.2815615474880635)\n",
      "Average symmetric difference DL: 0.47 (std 0.6550572494064927)\n",
      "Portion of predicted knowledge structures, which are valid quasi-ordinal spaces: 0.91\n",
      "  valid spaces (union-closed): 0.96 \n",
      "\n"
     ]
    },
    {
     "name": "stderr",
     "output_type": "stream",
     "text": [
      "n500_b0.05_e0.15: 100%|██████████| 100/100 [00:10<00:00,  9.20it/s]\n"
     ]
    },
    {
     "name": "stdout",
     "output_type": "stream",
     "text": [
      "N_samples: 500, Beta: 0.05, Eta: 0.15\n",
      "Average symmetric difference IITA: 1.83, (std 2.1774067144197016)\n",
      "Average symmetric difference DL: 0.64 (std 0.9748846085563151)\n",
      "Portion of predicted knowledge structures, which are valid quasi-ordinal spaces: 0.93\n",
      "  valid spaces (union-closed): 0.95 \n",
      "\n"
     ]
    },
    {
     "name": "stderr",
     "output_type": "stream",
     "text": [
      "n500_b0.1_e0.1: 100%|██████████| 100/100 [00:11<00:00,  8.66it/s]\n"
     ]
    },
    {
     "name": "stdout",
     "output_type": "stream",
     "text": [
      "N_samples: 500, Beta: 0.1, Eta: 0.1\n",
      "Average symmetric difference IITA: 1.15, (std 1.6393596310755)\n",
      "Average symmetric difference DL: 0.57 (std 0.9721625378505385)\n",
      "Portion of predicted knowledge structures, which are valid quasi-ordinal spaces: 0.90\n",
      "  valid spaces (union-closed): 0.94 \n",
      "\n"
     ]
    },
    {
     "name": "stderr",
     "output_type": "stream",
     "text": [
      "n500_b0.15_e0.05: 100%|██████████| 100/100 [00:10<00:00,  9.31it/s]\n"
     ]
    },
    {
     "name": "stdout",
     "output_type": "stream",
     "text": [
      "N_samples: 500, Beta: 0.15, Eta: 0.05\n",
      "Average symmetric difference IITA: 1.38, (std 2.189885841773493)\n",
      "Average symmetric difference DL: 0.88 (std 1.0322790320451152)\n",
      "Portion of predicted knowledge structures, which are valid quasi-ordinal spaces: 0.82\n",
      "  valid spaces (union-closed): 0.89 \n",
      "\n"
     ]
    },
    {
     "name": "stderr",
     "output_type": "stream",
     "text": [
      "n500_b0.1_e0.15: 100%|██████████| 100/100 [00:12<00:00,  8.25it/s]\n"
     ]
    },
    {
     "name": "stdout",
     "output_type": "stream",
     "text": [
      "N_samples: 500, Beta: 0.1, Eta: 0.15\n",
      "Average symmetric difference IITA: 1.58, (std 2.0058913230780977)\n",
      "Average symmetric difference DL: 0.96 (std 1.1038115781237303)\n",
      "Portion of predicted knowledge structures, which are valid quasi-ordinal spaces: 0.80\n",
      "  valid spaces (union-closed): 0.88 \n",
      "\n"
     ]
    },
    {
     "name": "stderr",
     "output_type": "stream",
     "text": [
      "n500_b0.15_e0.1: 100%|██████████| 100/100 [00:11<00:00,  8.67it/s]\n"
     ]
    },
    {
     "name": "stdout",
     "output_type": "stream",
     "text": [
      "N_samples: 500, Beta: 0.15, Eta: 0.1\n",
      "Average symmetric difference IITA: 1.54, (std 2.312660805219823)\n",
      "Average symmetric difference DL: 1.07 (std 1.274794101021808)\n",
      "Portion of predicted knowledge structures, which are valid quasi-ordinal spaces: 0.83\n",
      "  valid spaces (union-closed): 0.91 \n",
      "\n"
     ]
    },
    {
     "name": "stderr",
     "output_type": "stream",
     "text": [
      "n500_b0.15_e0.15: 100%|██████████| 100/100 [00:12<00:00,  8.29it/s]"
     ]
    },
    {
     "name": "stdout",
     "output_type": "stream",
     "text": [
      "N_samples: 500, Beta: 0.15, Eta: 0.15\n",
      "Average symmetric difference IITA: 2.86, (std 2.7568822970885067)\n",
      "Average symmetric difference DL: 1.24 (std 1.0688311372709909)\n",
      "Portion of predicted knowledge structures, which are valid quasi-ordinal spaces: 0.75\n",
      "  valid spaces (union-closed): 0.89 \n",
      "\n"
     ]
    },
    {
     "name": "stderr",
     "output_type": "stream",
     "text": [
      "\n"
     ]
    }
   ],
   "source": [
    "random.seed(None)\n",
    "np.random.seed(None)\n",
    "def get_cmap_and_norm(data):\n",
    "    vmin, vmax = data.min(), data.max()\n",
    "    abs_max = max(abs(vmin), abs(vmax))\n",
    "\n",
    "    if vmin < 0 and vmax > 0:\n",
    "        # Data contains both positive and negative values\n",
    "        # Use a colormap that goes from green to white to red\n",
    "        cmap = mcolors.LinearSegmentedColormap.from_list(\"GdRu\", [\"red\", \"white\", \"green\"])\n",
    "        norm = mcolors.TwoSlopeNorm(vmin=-abs_max, vcenter=0, vmax=abs_max)\n",
    "    elif vmin > 0:\n",
    "        # only positive values / monotone performance increase (white to gree)\n",
    "        cmap = mcolors.LinearSegmentedColormap.from_list(\"WdR\", [\"white\", \"green\"])\n",
    "        norm = mcolors.Normalize(vmin=0, vmax=vmax)\n",
    "    else:\n",
    "        # only negative values / monotone performance decrease (white to red)\n",
    "        cmap = mcolors.LinearSegmentedColormap.from_list(\"WdW\", [\"white\", \"red\"])\n",
    "        norm = mcolors.Normalize(vmin=0, vmax=vmax)\n",
    "\n",
    "    return cmap, norm\n",
    "\n",
    "Betas = [0.05, 0.1, 0.15] \n",
    "Etas = [0.05, 0.1, 0.15] \n",
    "Num_samples = [100, 300, 500] \n",
    "factor = 0.4\n",
    "\n",
    "conditions = list(product(Betas, Etas))\n",
    "sorted_conditions = sorted(conditions, key=lambda x: 0.999*x[0] + 0.998*x[1])\n",
    "print(f\"Evaluation conditions: {sorted_conditions} \\n\")\n",
    "\n",
    "\n",
    "diff_lsts_iita = []\n",
    "diff_lsts_DL = []\n",
    "diff_lsts_naiv = []\n",
    "length_diff_lsts_iita = []\n",
    "length_diff_lsts_DL = []\n",
    "std_lsts_iita = []\n",
    "std_lsts_DL = []\n",
    "ratio_lsts_quasi_ordinal = []\n",
    "ratio_lsts_u_closed = []\n",
    "n_simulation_per_condition = 100\n",
    "\n",
    "for n_samples in Num_samples:\n",
    "    diff_lst_iita = []\n",
    "    diff_lst_DL = []\n",
    "    diff_lst_naiv = []\n",
    "    length_diff_lst_iita = []\n",
    "    length_diff_lst_DL = []\n",
    "    std_lst_iita = []\n",
    "    std_lst_DL = []\n",
    "    ratios_quasi_ordinal = []\n",
    "    ratios_u_closed = []\n",
    "    \n",
    "    for beta, eta in sorted_conditions:\n",
    "        diffs_iita = []\n",
    "        diffs_DL = []\n",
    "        diffs_naiv = []\n",
    "        length_diffs_iita = []\n",
    "        length_diffs_DL = []\n",
    "        counts_quasi_ordinal = 0\n",
    "        counts_u_closed = 0\n",
    "        for idx in tqdm(np.random.choice(range(len(test_set)), n_simulation_per_condition, replace=False), desc=f\"n{str(n_samples)}_b{str(beta)}_e{str(eta)}\"):\n",
    "            original_idx = test_set.indices[idx]\n",
    "            diff_iita, diff_DL, quasi_ordinal, union_closed, length_diff_iita, length_diff_DL, d_naiv = DATASET.test_item(original_idx, model, regressor, samples_size=n_samples, beta = beta, eta = eta, factor=factor)\n",
    "            diffs_iita += [diff_iita]\n",
    "            diffs_DL += [diff_DL]\n",
    "            diffs_naiv += [d_naiv]\n",
    "            counts_quasi_ordinal += quasi_ordinal\n",
    "            counts_u_closed += union_closed\n",
    "            length_diffs_iita += [length_diff_iita]\n",
    "            length_diffs_DL += [length_diff_DL]\n",
    "\n",
    "        diff_lst_iita += [np.mean(diffs_iita)]\n",
    "        diff_lst_DL += [np.mean(diffs_DL)]\n",
    "        diff_lst_naiv += [np.mean(diffs_naiv)]\n",
    "        std_lst_iita += [np.std(diffs_iita)]\n",
    "        std_lst_DL += [np.std(diffs_DL)]\n",
    "        ratios_quasi_ordinal += [counts_quasi_ordinal/n_simulation_per_condition]\n",
    "        ratios_u_closed += [counts_u_closed/n_simulation_per_condition]\n",
    "        length_diff_lst_iita += [np.mean(length_diffs_iita)]\n",
    "        length_diff_lst_DL += [np.mean(length_diffs_DL)]\n",
    "\n",
    "        print(f\"N_samples: {n_samples}, Beta: {beta}, Eta: {eta}\")\n",
    "        print(f\"Average symmetric difference IITA: {np.mean(diffs_iita)}, (std {np.std(diffs_iita)})\")\n",
    "        print(f\"Average symmetric difference DL: {np.mean(diffs_DL)} (std {np.std(diffs_DL)})\")\n",
    "        print(f\"Portion of predicted knowledge structures, which are valid quasi-ordinal spaces: {(counts_quasi_ordinal/n_simulation_per_condition):.2f}\") \n",
    "        print(f\"  valid spaces (union-closed): {(counts_u_closed/n_simulation_per_condition):.2f} \\n\") \n",
    "        \n",
    "    diff_lsts_iita += [diff_lst_iita]\n",
    "    diff_lsts_DL += [diff_lst_DL]\n",
    "    diff_lsts_naiv += [diff_lst_naiv]\n",
    "    std_lsts_iita += [std_lst_iita]\n",
    "    std_lsts_DL += [std_lst_DL]\n",
    "    ratio_lsts_quasi_ordinal += [ratios_quasi_ordinal]\n",
    "    ratio_lsts_u_closed += [ratios_u_closed]\n",
    "    length_diff_lsts_iita += [length_diff_lst_iita]\n",
    "    length_diff_lsts_DL += [length_diff_lst_DL]\n",
    "\n",
    "# Convert lists to numpy arrays and flatten them\n",
    "diff_lsts_iita_np = np.array(diff_lsts_iita).flatten()\n",
    "diff_lsts_DL_np = np.array(diff_lsts_DL).flatten()\n"
   ]
  },
  {
   "cell_type": "code",
   "execution_count": 33,
   "metadata": {},
   "outputs": [
    {
     "data": {
      "image/png": "[encoded data removed]",
      "text/plain": [
       "<Figure size 1000x500 with 2 Axes>"
      ]
     },
     "metadata": {},
     "output_type": "display_data"
    },
    {
     "data": {
      "image/png": "[encoded data removed]",
      "text/plain": [
       "<Figure size 1000x500 with 2 Axes>"
      ]
     },
     "metadata": {},
     "output_type": "display_data"
    },
    {
     "data": {
      "image/png": "[encoded data removed]",
      "text/plain": [
       "<Figure size 1000x500 with 2 Axes>"
      ]
     },
     "metadata": {},
     "output_type": "display_data"
    },
    {
     "data": {
      "image/png": "[encoded data removed]",
      "text/plain": [
       "<Figure size 1000x500 with 2 Axes>"
      ]
     },
     "metadata": {},
     "output_type": "display_data"
    }
   ],
   "source": [
    "# Find global min and max\n",
    "vmin = 0 #min(diff_lsts_iita_np.min(), diff_lsts_DL_np.min())\n",
    "vmax = max(diff_lsts_iita_np.max(), diff_lsts_DL_np.max())\n",
    "\n",
    "# plot avrg symmetric differences values per condition and number of samples as heatmap for IITA as color map (len(conditions), len(Num_samples))\n",
    "plt.figure(figsize=(10, 5))\n",
    "plt.imshow(diff_lsts_iita, cmap='hot_r', interpolation='nearest', vmin=vmin, vmax=vmax)\n",
    "plt.colorbar()\n",
    "plt.xticks(range(len(sorted_conditions)), [f\"{beta}_{eta}\" for beta, eta in sorted_conditions], rotation='vertical')\n",
    "plt.yticks(range(len(Num_samples)), Num_samples)\n",
    "plt.title(\"Average symmetric differences IITA\")\n",
    "plt.show()\n",
    "\n",
    "# plot avrg symmetric differences values per condition and number of samples as heatmap for DL as color map (len(conditions), len(Num_samples))\n",
    "plt.figure(figsize=(10, 5))\n",
    "plt.imshow(diff_lsts_DL, cmap='hot_r', interpolation='nearest', vmin=vmin, vmax=vmax)\n",
    "plt.colorbar()\n",
    "plt.xticks(range(len(sorted_conditions)), [f\"{beta}_{eta}\" for beta, eta in sorted_conditions], rotation='vertical')\n",
    "plt.yticks(range(len(Num_samples)), Num_samples)\n",
    "plt.title(\"Average symmetric differences DL\")\n",
    "plt.show()\n",
    "\n",
    "# Calculate the difference between the two data arrays\n",
    "diff_comparison = np.array(diff_lsts_iita) - np.array(diff_lsts_DL)\n",
    "\n",
    "# Get the appropriate colormap and normalization for the data\n",
    "cmap, norm = get_cmap_and_norm(diff_comparison)\n",
    "plt.figure(figsize=(10, 5))\n",
    "plt.imshow(diff_comparison, cmap=cmap, norm=norm, interpolation='nearest')\n",
    "plt.colorbar()\n",
    "plt.xticks(range(len(sorted_conditions)), [f\"{beta}_{eta}\" for beta, eta in sorted_conditions], rotation='vertical')\n",
    "plt.yticks(range(len(Num_samples)), Num_samples)\n",
    "plt.title(\"Improvement of Average Symmetric Differences\")\n",
    "plt.show()\n",
    "\n",
    "# Compare the standard deviations of symmetric differences\n",
    "std_comparison = np.array(std_lsts_iita) - np.array(std_lsts_DL)\n",
    "cmap, norm = get_cmap_and_norm(std_comparison)\n",
    "plt.figure(figsize=(10, 5))\n",
    "plt.imshow(std_comparison, cmap=cmap, norm=norm, interpolation='nearest')\n",
    "plt.colorbar()\n",
    "plt.xticks(range(len(sorted_conditions)), [f\"{beta}_{eta}\" for beta, eta in sorted_conditions], rotation='vertical')\n",
    "plt.yticks(range(len(Num_samples)), Num_samples)\n",
    "plt.title(\"Improvement of Standard Deviations\")\n",
    "plt.show()\n",
    "\n",
    "with open(f'logs/Performance-{model.config[\"ID_regressor\"]}', 'wb') as f:\n",
    "    pickle.dump((sorted_conditions, diff_lsts_iita, diff_lsts_DL, std_lsts_iita, std_lsts_DL), f)"
   ]
  },
  {
   "cell_type": "code",
   "execution_count": 36,
   "metadata": {},
   "outputs": [
    {
     "data": {
      "image/png": "[encoded data removed]",
      "text/plain": [
       "<Figure size 1000x500 with 2 Axes>"
      ]
     },
     "metadata": {},
     "output_type": "display_data"
    },
    {
     "data": {
      "image/png": "[encoded data removed]",
      "text/plain": [
       "<Figure size 1000x500 with 2 Axes>"
      ]
     },
     "metadata": {},
     "output_type": "display_data"
    },
    {
     "data": {
      "image/png": "[encoded data removed]",
      "text/plain": [
       "<Figure size 1000x500 with 2 Axes>"
      ]
     },
     "metadata": {},
     "output_type": "display_data"
    },
    {
     "data": {
      "image/png": "[encoded data removed]",
      "text/plain": [
       "<Figure size 1000x500 with 2 Axes>"
      ]
     },
     "metadata": {},
     "output_type": "display_data"
    },
    {
     "data": {
      "image/png": "[encoded data removed]",
      "text/plain": [
       "<Figure size 1000x500 with 2 Axes>"
      ]
     },
     "metadata": {},
     "output_type": "display_data"
    }
   ],
   "source": [
    "# plot performance of optimal \"naive\" method\n",
    "diff_lsts_naiv_np = np.array(diff_lsts_naiv)\n",
    "\n",
    "# plot avr length diffs \n",
    "plt.figure(figsize=(10, 5))\n",
    "plt.imshow(diff_lsts_naiv_np, cmap='hot_r', interpolation='nearest', vmin=0, vmax=max(diff_lsts_naiv_np.flatten()))\n",
    "plt.colorbar()\n",
    "plt.xticks(range(len(sorted_conditions)), [f\"{beta}_{eta}\" for beta, eta in sorted_conditions], rotation='vertical')\n",
    "plt.yticks(range(len(Num_samples)), Num_samples)\n",
    "plt.title(\"Average symmetric differences Optimal Thresholding\")\n",
    "plt.show()\n",
    "\n",
    "\n",
    "# plot heatmap for ratio of quasi-ordinal spaces per condition and number of samples\n",
    "ratio_lsts_quasi_ordinal_np = np.array(ratio_lsts_quasi_ordinal).reshape(len(Num_samples), len(sorted_conditions))\n",
    "plt.figure(figsize=(10, 5))\n",
    "plt.imshow(ratio_lsts_quasi_ordinal_np, cmap='hot_r', interpolation='nearest', vmin=0, vmax=1)\n",
    "plt.colorbar()\n",
    "plt.xticks(range(len(sorted_conditions)), [f\"{beta}_{eta}\" for beta, eta in sorted_conditions], rotation='vertical')\n",
    "plt.yticks(range(len(Num_samples)), Num_samples)\n",
    "plt.title(\"Ratio of quasi-ordinal spaces generated\")\n",
    "plt.show()\n",
    "\n",
    "# plot heatmap for ratio of union-closed spaces per condition and number of samples\n",
    "ratio_lsts_u_closed_np = np.array(ratio_lsts_u_closed).reshape(len(Num_samples), len(sorted_conditions))\n",
    "plt.figure(figsize=(10, 5))\n",
    "plt.imshow(ratio_lsts_u_closed_np, cmap='hot_r', interpolation='nearest', vmin=0, vmax=1)\n",
    "plt.colorbar()\n",
    "plt.xticks(range(len(sorted_conditions)), [f\"{beta}_{eta}\" for beta, eta in sorted_conditions], rotation='vertical')\n",
    "plt.yticks(range(len(Num_samples)), Num_samples)\n",
    "plt.title(\"Ratio of union-closed spaces generated\")\n",
    "plt.show()\n",
    "\n",
    "\n",
    "length_diff_lsts_iita_np = np.array(length_diff_lsts_iita)\n",
    "length_diff_lsts_DL_np = np.array(length_diff_lsts_DL)\n",
    "# Find global min and max\n",
    "vmin = min(length_diff_lsts_iita_np.min(), length_diff_lsts_DL_np.min())\n",
    "vmax = max(length_diff_lsts_iita_np.max(), length_diff_lsts_DL_np.max())\n",
    "\n",
    "# plot avr length diffs \n",
    "plt.figure(figsize=(10, 5))\n",
    "plt.imshow(length_diff_lsts_iita_np, cmap='hot_r', interpolation='nearest', vmin=vmin, vmax=vmax)\n",
    "plt.colorbar()\n",
    "plt.xticks(range(len(sorted_conditions)), [f\"{beta}_{eta}\" for beta, eta in sorted_conditions], rotation='vertical')\n",
    "plt.yticks(range(len(Num_samples)), Num_samples)\n",
    "plt.title(\"Average length differences IITA\")\n",
    "plt.show()\n",
    "\n",
    "plt.figure(figsize=(10, 5))\n",
    "plt.imshow(length_diff_lsts_DL_np, cmap='hot_r', interpolation='nearest', vmin=vmin, vmax=vmax)\n",
    "plt.colorbar()\n",
    "plt.xticks(range(len(sorted_conditions)), [f\"{beta}_{eta}\" for beta, eta in sorted_conditions], rotation='vertical')\n",
    "plt.yticks(range(len(Num_samples)), Num_samples)\n",
    "plt.title(\"Average length differences DL\")\n",
    "plt.show()"
   ]
  },
  {
   "cell_type": "markdown",
   "metadata": {},
   "source": [
    "### Training Phase 1"
   ]
  },
  {
   "cell_type": "code",
   "execution_count": null,
   "metadata": {},
   "outputs": [],
   "source": [
    "optimizer = optim.Adam(model.parameters(), lr=model.config[\"LR_1\"] * model.config['LR_1_decay']**20) \n",
    "scheduler = torch.optim.lr_scheduler.StepLR(optimizer, 1.0, gamma=model.config[\"LR_1_decay\"])\n",
    "label_smoothing = 0.1\n",
    "criterion = CustomCELoss(label_smoothing)\n",
    "criterion2 = nn.MSELoss()\n",
    "\n",
    "optimizer.zero_grad()\n",
    "def training(epochs, length_wheight):\n",
    "    # Training metrics\n",
    "    train_losses = []\n",
    "    val_losses = []\n",
    "    acc_values = []\n",
    "    logs = []\n",
    "\n",
    "    for e in range(1, epochs+1):  \n",
    "        train_losses += [train(model, train_loader, optimizer, criterion, criterion2, scheduler, model.config[\"clip_norm\"], DATASET, length_wheight, device)]\n",
    "        val_losses += [evaluate(model, val_loader, criterion, device)]\n",
    "        \n",
    "        # Display losses, LR and length wheight of current epoch\n",
    "        log = f\"Epoch {e}/{epochs}: Train Losses: {train_losses[-1][-1]:.6f} (CE{train_losses[-1][0]:.6f}) (L{train_losses[-1][1]:.6f}) | Validation Loss: {val_losses[-1]:.6f} | LR: {scheduler.get_last_lr()[0]:.10f} | Length_wheight: {length_wheight:.6f}\"\n",
    "        logs.append(log)\n",
    "        print(log)\n",
    "        \n",
    "        # Evaluate performance on complete dataset sample\n",
    "        if e % 1 == 0:\n",
    "            acc, mean_dist, std = performance(model, val_set, DATASET, print_n_errors=1, plot=True)\n",
    "            acc_values.append(acc)\n",
    "            logs.append(f\"Accuracy: {acc_values[-1]}, Mean distance: {mean_dist}, Std: {std}\")\n",
    "        \n",
    "        # Decay LR and length wheight \n",
    "        scheduler.step()\n",
    "        length_wheight = max(length_wheight * model.config[\"length_wheight_decay\"], 0.0005)\n",
    "    \n",
    "    # save logs to txt file\n",
    "    dir_name = \"logs\"\n",
    "    if not os.path.exists(dir_name):\n",
    "        os.makedirs(dir_name)\n",
    "    with open(f\"{dir_name}/logs_{model.config['ID_decoder']}_3.txt\", \"w\") as file:\n",
    "        for log in logs:\n",
    "            file.write(log + \"\\n\")\n",
    "\n",
    "    return train_losses, val_losses, acc_values"
   ]
  },
  {
   "cell_type": "code",
   "execution_count": null,
   "metadata": {},
   "outputs": [],
   "source": [
    "train_losses, val_losses, acc_values = training(300, 0.002);  "
   ]
  },
  {
   "cell_type": "code",
   "execution_count": null,
   "metadata": {},
   "outputs": [],
   "source": [
    "train_losses_total = [float(t[2].cpu().detach()) for t in train_losses]\n",
    "\n",
    "# plot losses \n",
    "plt.plot(train_losses_total, label='Training loss')\n",
    "plt.plot(val_losses, label='Validation loss')\n",
    "plt.legend()\n",
    "plt.show()\n",
    "\n",
    "### plot losses + accuracy\n",
    "fig, ax1 = plt.subplots()\n",
    "\n",
    "color = 'tab:red'\n",
    "ax1.set_xlabel('Epochs')\n",
    "ax1.set_ylabel('Loss', color=color)\n",
    "ax1.plot(train_losses_total, color=color, label='Training loss')\n",
    "ax1.plot(val_losses, color='tab:orange', label='Validation loss')\n",
    "ax1.tick_params(axis='y', labelcolor=color)\n",
    "\n",
    "ax2 = ax1.twinx()  # second axes shares the same x-axis\n",
    "color = 'tab:blue'\n",
    "ax2.set_ylabel('Accuracy', color=color)  # we already handled the x-label with ax1\n",
    "ax2.plot(acc_values, color=color, label='Accuracy')\n",
    "ax2.tick_params(axis='y', labelcolor=color)\n",
    "ax2.set_ylim([0, 1])  # accuracy ranges from 0 to 1\n",
    "\n",
    "fig.tight_layout()  # otherwise the right y-label is slightly clipped\n",
    "plt.show()\n"
   ]
  },
  {
   "cell_type": "markdown",
   "metadata": {},
   "source": [
    "### Performance test 1"
   ]
  },
  {
   "cell_type": "code",
   "execution_count": 37,
   "metadata": {},
   "outputs": [
    {
     "name": "stderr",
     "output_type": "stream",
     "text": [
      "Performance test on 1000 random test samples: 100%|██████████| 1000/1000 [00:41<00:00, 24.01it/s]"
     ]
    },
    {
     "name": "stdout",
     "output_type": "stream",
     "text": [
      "    Displaying 1000 mismatching sequences:\n",
      "    163) Symmetric Difference: 2\n",
      "    [Target]     ||e    |ae   |bc   |bce  |abce |bcde |abcde|<eos>|<pad>|<pad>|<pad>|<pad>|<pad>|<pad>|<pad>|<pad>|<pad>|<pad>|<pad>|<pad>|<pad>|<pad>|<pad>|<pad>|<pad>|<pad>|<pad>|<pad>|<pad>|<pad>|<pad>|<pad>|<pad>||\n",
      "    [Prediction] ||e    |ae   |bc   |ce   |ace  |bce  |abce |bcde |abcde|<eos>||\n",
      "    347) Symmetric Difference: 1\n",
      "    [Target]     ||c    |e    |cd   |ce   |bce  |cde  |acde |bcde |abcde|<eos>|<pad>|<pad>|<pad>|<pad>|<pad>|<pad>|<pad>|<pad>|<pad>|<pad>|<pad>|<pad>|<pad>|<pad>|<pad>|<pad>|<pad>|<pad>|<pad>|<pad>|<pad>|<pad>|<pad>||\n",
      "    [Prediction] ||c    |e    |cd   |ce   |cde  |acde |bcde |abcde|<eos>||\n",
      "    399) Symmetric Difference: 1\n",
      "    [Target]     ||ac   |be   |bde  |abce |abcde|<eos>|<pad>|<pad>|<pad>|<pad>|<pad>|<pad>|<pad>|<pad>|<pad>|<pad>|<pad>|<pad>|<pad>|<pad>|<pad>|<pad>|<pad>|<pad>|<pad>|<pad>|<pad>|<pad>|<pad>|<pad>|<pad>|<pad>|<pad>||\n",
      "    [Prediction] ||ac   |be   |abe  |bde  |abce |abcde|<eos>||\n",
      "    452) Symmetric Difference: 1\n",
      "    [Target]     ||c    |ac   |be   |bce  |bde  |abce |bcde |abcde|<eos>|<pad>|<pad>|<pad>|<pad>|<pad>|<pad>|<pad>|<pad>|<pad>|<pad>|<pad>|<pad>|<pad>|<pad>|<pad>|<pad>|<pad>|<pad>|<pad>|<pad>|<pad>|<pad>|<pad>|<pad>||\n",
      "    [Prediction] ||c    |ac   |be   |abe  |bce  |bde  |abce |bcde |abcde|<eos>||\n",
      "    526) Symmetric Difference: 1\n",
      "    [Target]     ||d    |acd  |bde  |abcde|<eos>|<pad>|<pad>|<pad>|<pad>|<pad>|<pad>|<pad>|<pad>|<pad>|<pad>|<pad>|<pad>|<pad>|<pad>|<pad>|<pad>|<pad>|<pad>|<pad>|<pad>|<pad>|<pad>|<pad>|<pad>|<pad>|<pad>|<pad>|<pad>||\n",
      "    [Prediction] ||d    |ad   |acd  |bde  |abcde|<eos>||\n",
      "    612) Symmetric Difference: 1\n",
      "    [Target]     ||c    |cd   |bcde |abcde|<eos>|<pad>|<pad>|<pad>|<pad>|<pad>|<pad>|<pad>|<pad>|<pad>|<pad>|<pad>|<pad>|<pad>|<pad>|<pad>|<pad>|<pad>|<pad>|<pad>|<pad>|<pad>|<pad>|<pad>|<pad>|<pad>|<pad>|<pad>|<pad>||\n",
      "    [Prediction] ||c    |cd   |bcd  |bcde |abcde|<eos>||\n",
      "    626) Symmetric Difference: 1\n",
      "    [Target]     ||a    |ae   |cd   |acd  |abcd |acde |abcde|<eos>|<pad>|<pad>|<pad>|<pad>|<pad>|<pad>|<pad>|<pad>|<pad>|<pad>|<pad>|<pad>|<pad>|<pad>|<pad>|<pad>|<pad>|<pad>|<pad>|<pad>|<pad>|<pad>|<pad>|<pad>|<pad>||\n",
      "    [Prediction] ||a    |cd   |acd  |abcd |acde |abcde|<eos>||\n",
      "    655) Symmetric Difference: 1\n",
      "    [Target]     ||e    |bc   |bce  |abcd |abcde|<eos>|<pad>|<pad>|<pad>|<pad>|<pad>|<pad>|<pad>|<pad>|<pad>|<pad>|<pad>|<pad>|<pad>|<pad>|<pad>|<pad>|<pad>|<pad>|<pad>|<pad>|<pad>|<pad>|<pad>|<pad>|<pad>|<pad>|<pad>||\n",
      "    [Prediction] ||e    |bc   |ce   |bce  |abcd |abcde|<eos>||\n",
      "    874) Symmetric Difference: 1\n",
      "    [Target]     ||e    |be   |cd   |cde  |acde |bcde |abcde|<eos>|<pad>|<pad>|<pad>|<pad>|<pad>|<pad>|<pad>|<pad>|<pad>|<pad>|<pad>|<pad>|<pad>|<pad>|<pad>|<pad>|<pad>|<pad>|<pad>|<pad>|<pad>|<pad>|<pad>|<pad>|<pad>||\n",
      "    [Prediction] ||e    |be   |cd   |de   |cde  |acde |bcde |abcde|<eos>||\n",
      "    931) Symmetric Difference: 1\n",
      "    [Target]     ||b    |ae   |cd   |abe  |bcd  |acde |abcde|<eos>|<pad>|<pad>|<pad>|<pad>|<pad>|<pad>|<pad>|<pad>|<pad>|<pad>|<pad>|<pad>|<pad>|<pad>|<pad>|<pad>|<pad>|<pad>|<pad>|<pad>|<pad>|<pad>|<pad>|<pad>|<pad>||\n",
      "    [Prediction] ||b    |ae   |abe  |bcd  |acde |abcde|<eos>||\n",
      "Accuracy: 0.99, Avr Symmetric Difference: 0.011 (std 0.11348568191626644)\n",
      "Mean abs length difference: 1.1155483388900758 (std 1.5443804959001841) \n",
      "\n"
     ]
    },
    {
     "name": "stderr",
     "output_type": "stream",
     "text": [
      "\n"
     ]
    }
   ],
   "source": [
    "acc, mean_dist, std = performance(model, test_set, DATASET, print_n_errors=1000, plot=False);\n",
    "\n",
    "# save logs to txt file\n",
    "# dir_name = \"results/Q7\"\n",
    "# with open(f\"{dir_name}/performance_Q7__{model.config['ID_decoder']}_3.txt\", \"w\") as file:\n",
    "#     file.write(f\"Accuracy: {acc}, Mean distance: {mean_dist}, Std: {std}\") "
   ]
  },
  {
   "cell_type": "markdown",
   "metadata": {},
   "source": [
    "### Embeddings"
   ]
  },
  {
   "cell_type": "code",
   "execution_count": null,
   "metadata": {},
   "outputs": [],
   "source": [
    "# imports \n",
    "from sklearn.decomposition import PCA\n",
    "# from sklearn.manifold import TSNE\n",
    "import matplotlib.pyplot as plt\n",
    "import seaborn as sns\n",
    "import pandas as pd\n",
    "import numpy as np"
   ]
  },
  {
   "cell_type": "code",
   "execution_count": null,
   "metadata": {},
   "outputs": [],
   "source": [
    "all_embeddings = []\n",
    "all_generated_sequences = []\n",
    "kowledge_spaces = []\n",
    "# create embeddings for the whole dataset\n",
    "with torch.no_grad():\n",
    "        for i, (S, _, tgt_seq, _) in enumerate(tqdm(DATASET, desc=f\"Generating all sequences and embeddings...\")):\n",
    "            S, tgt_seq = S.to(\"cuda\"), tgt_seq.to(\"cuda\")\n",
    "            input_matrix = S.unsqueeze(0)\n",
    "    \n",
    "            generated_sequence, K_embedding_batch, attention_weights = generate_sequence(model, input_matrix, DATASET, eos_token_id=DATASET.state2idx['<eos>'])\n",
    "            out_seq_tokens = [DATASET.idx2state[idx] for idx in generated_sequence]\n",
    "            \n",
    "            all_generated_sequences.append(generated_sequence)\n",
    "            all_embeddings.append(K_embedding_batch)\n",
    "            kowledge_spaces.append([out_seq_tokens])"
   ]
  },
  {
   "cell_type": "markdown",
   "metadata": {},
   "source": [
    "##### PCA"
   ]
  },
  {
   "cell_type": "code",
   "execution_count": null,
   "metadata": {},
   "outputs": [],
   "source": [
    "# Visualize embeddings with PCA\n",
    "pca = PCA(n_components=2)\n",
    "pca_result = pca.fit_transform([emb.flatten().cpu().numpy() for emb in all_embeddings])\n",
    "\n",
    "knowledge_spaces2 = [[DATASET.idx2state[idx] for idx in seq] for seq in all_generated_sequences]\n",
    "knowledge_spaces3 = [seq[:-1] for seq in knowledge_spaces2]\n",
    "\n",
    "# colors\n",
    "colors = ['red' if 'bcde' in seq_list else 'blue' for emb, seq_list in zip(all_embeddings, knowledge_spaces2)]\n",
    "\n",
    "# def all_in(lst1, lst2): # check if all elements of lst1 are in lst2\n",
    "#     return all([elem in lst2 for elem in lst1])\n",
    "\n",
    "# incuded_states = ['', 'e', 'ce', 'bce', 'abce', 'abcde', 'abcdef']\n",
    "# colors = ['red' if all([elem in incuded_states for elem in seq_list]) else 'blue' for emb, seq_list in zip(all_embeddings, knowledge_spaces3)]\n",
    "# len([1 for c in colors if c == 'red']) \n"
   ]
  },
  {
   "cell_type": "code",
   "execution_count": null,
   "metadata": {},
   "outputs": [],
   "source": [
    "pca_df = pd.DataFrame(pca_result, columns=['pca1', 'pca2'])\n",
    "pca_df['color'] = colors  # Add the color information\n",
    "pca_df['size'] = [len(seq) for seq in knowledge_spaces3]\n",
    "\n",
    "plt.figure(figsize=(16,10))\n",
    "sns.scatterplot(\n",
    "    x=\"pca1\", y=\"pca2\",\n",
    "    hue=\"color\",\n",
    "    size=\"size\", \n",
    "    sizes=(20, 200),\n",
    "    palette=['red', 'blue'],\n",
    "    data=pca_df,\n",
    "    legend=\"brief\",\n",
    "    alpha=0.3\n",
    ")\n",
    "plt.show()\n"
   ]
  },
  {
   "cell_type": "markdown",
   "metadata": {},
   "source": [
    "##### Interpolation"
   ]
  },
  {
   "cell_type": "code",
   "execution_count": null,
   "metadata": {},
   "outputs": [],
   "source": [
    "idx1 = random.randint(0, len(DATASET)) #44418\n",
    "idx2 = random.randint(0, len(DATASET)) #14443\n",
    "S1, _, target1, _ = DATASET[idx1]\n",
    "S2, _, target2, _ = DATASET[idx2]\n",
    "S1_np = S1.cpu().numpy().reshape(DATASET.config['max_items'], -1)\n",
    "S2_np = S2.cpu().numpy().reshape(DATASET.config['max_items'], -1)\n",
    "\n",
    "K1 = [DATASET.idx2state[idx] for idx in target1.cpu().numpy() if idx != DATASET.state2idx[DATASET.config['PAD_TOKEN']] and idx != DATASET.state2idx[DATASET.config['EOS_TOKEN']]]\n",
    "K2 = [DATASET.idx2state[idx] for idx in target2.cpu().numpy() if idx != DATASET.state2idx[DATASET.config['PAD_TOKEN']] and idx != DATASET.state2idx[DATASET.config['EOS_TOKEN']]]\n",
    "\n",
    "print(f\"K1 (id {idx1}): {K1} \\nK2 (id {idx2}): {K2}\")"
   ]
  },
  {
   "cell_type": "code",
   "execution_count": null,
   "metadata": {},
   "outputs": [],
   "source": [
    "K_embeddings = []\n",
    "for S in [S1, S2]:\n",
    "    _, K_embedding_batch, _ = generate_sequence(model, S.unsqueeze(0).to('cuda'), DATASET, eos_token_id=DATASET.state2idx['<eos>'])\n",
    "    K_embeddings.append(K_embedding_batch)\n",
    "\n",
    "# interpolate between two K_embeddings\n",
    "intermediate_embeddings = []\n",
    "N_interpol = 300\n",
    "for i in list(range(N_interpol+1)):\n",
    "    alpha = i / N_interpol\n",
    "    intermediate_embedding = alpha * K_embeddings[0] + (1 - alpha) * K_embeddings[1]\n",
    "    intermediate_embeddings.append(intermediate_embedding)\n",
    "\n",
    "# run model on intermediate embeddings (with start token, without input projection)\n",
    "intermediate_seqs = []\n",
    "# set all elements of tensor to zero\n",
    "S = S * 0\n",
    "for i in list(range(N_interpol+1)):\n",
    "    # place embeddings into memory cell and run forward pass without projection layer\n",
    "    precomputed_K_embedding = intermediate_embeddings[i].to('cuda')\n",
    "    output_seqs, _, _ = generate_sequence(model, S.unsqueeze(0).to('cuda'), DATASET, eos_token_id=DATASET.state2idx['<eos>'], data_embedding=precomputed_K_embedding)\n",
    "    intermediate_seqs.append(output_seqs)\n",
    "\n",
    "temp = None\n",
    "for i, seq in enumerate(intermediate_seqs):\n",
    "    #print(seq)\n",
    "    seq_states = [DATASET.idx2state[idx] for idx in seq]\n",
    "    seq_str = f\" >>> Sequence {i}: |\" + \"|\".join([token.ljust(6) for token in seq_states[1:]])\n",
    "    #print(seq_str)\n",
    "    \n",
    "    # display only opon change\n",
    "    if seq != temp:\n",
    "        print(seq)\n",
    "        print(seq_str)\n",
    "        temp = seq"
   ]
  },
  {
   "cell_type": "code",
   "execution_count": null,
   "metadata": {},
   "outputs": [],
   "source": [
    "padded_sequences = pad_sequences(intermediate_seqs, pad_token=DATASET.state2idx['<pad>'], vocab_size=DATASET.vocab_size)\n",
    "\n",
    "# Convert arrays to tuples\n",
    "set1_tuples = set([tuple(arr) for arr in DATASET.encoded])\n",
    "set2_tuples = set([tuple(arr) for arr in padded_sequences])\n",
    "\n",
    "\n",
    "common_elements = set1_tuples.intersection(set2_tuples)\n",
    "# The number of common elements is the answer\n",
    "num_common_elements = len(common_elements)\n",
    "\n",
    "print(f\"Number of interpolated knowledge structures: {len(set2_tuples)} (both initial structures included)\")\n",
    "print(f\"Number of K's in dataset: {len(set1_tuples)}\")\n",
    "print(f\"Number of common K's: {num_common_elements}\")\n"
   ]
  },
  {
   "cell_type": "markdown",
   "metadata": {},
   "source": [
    "##### Embedding Similarity vs Symmetric Difference"
   ]
  },
  {
   "cell_type": "code",
   "execution_count": null,
   "metadata": {},
   "outputs": [],
   "source": [
    "idx1 = random.randint(0, len(DATASET)) #15806\n",
    "idx2 = random.randint(0, len(DATASET)) #17829\n",
    "S1, _, target1, _ = DATASET[idx1]\n",
    "S2, _, target2, _ = DATASET[idx2]\n",
    "S1_np = S1.cpu().numpy().reshape(DATASET.config['max_items'], -1)\n",
    "S2_np = S2.cpu().numpy().reshape(DATASET.config['max_items'], -1)\n",
    "\n",
    "K1 = [DATASET.idx2state[idx] for idx in target1.cpu().numpy() if idx != DATASET.state2idx[DATASET.config['PAD_TOKEN']] and idx != DATASET.state2idx[DATASET.config['EOS_TOKEN']]]\n",
    "K2 = [DATASET.idx2state[idx] for idx in target2.cpu().numpy() if idx != DATASET.state2idx[DATASET.config['PAD_TOKEN']] and idx != DATASET.state2idx[DATASET.config['EOS_TOKEN']]]\n",
    "print(f\"K1 (id {idx1}): {K1} \\nK2 (id {idx2}): {K2}\")\n",
    "# print(S1.reshape(DATASET.config['max_items'], -1))\n",
    "# print(S2.reshape(DATASET.config['max_items'], -1))\n",
    "\n",
    "sym_diff = len(set(K1).symmetric_difference(set(K2)))\n",
    "print(f\"Symmetric difference between K1 and K2: {sym_diff}\")\n",
    "\n",
    "K1_embedding = generate_sequence(model, S1.unsqueeze(0).to(model.config[\"device\"]), DATASET, DATASET.config['EOS_TOKEN'], embedding_only=True)[1]\n",
    "K2_embedding = generate_sequence(model, S2.unsqueeze(0).to(model.config[\"device\"]), DATASET, DATASET.config['EOS_TOKEN'], embedding_only=True)[1]\n",
    "cosine_distance = F.cosine_similarity(K1_embedding, K2_embedding).item()\n",
    "euklidean_distance = torch.norm(K1_embedding - K2_embedding, p=2).item()\n",
    "loss_fn = nn.L1Loss()\n",
    "mae = loss_fn(K1_embedding, K2_embedding).item()\n",
    "print(f\"Cosine distance between K1 and K2:   {cosine_distance:.2f}\")\n",
    "print(f\"Euklidean distance between K1 and K2:   {euklidean_distance:.2f}\")\n",
    "print(f\"Mean Absolute distance of embeddings: {mae:.2f}\")"
   ]
  },
  {
   "cell_type": "code",
   "execution_count": null,
   "metadata": {},
   "outputs": [],
   "source": [
    "from scipy.stats import pearsonr\n",
    "\n",
    "def compute_metrics():\n",
    "    sym_diffs = []\n",
    "    cosine_distances = []\n",
    "    distances_euklidean = []\n",
    "    maes = []\n",
    "    loss_fn = nn.L1Loss()\n",
    "    \n",
    "    for _ in range(10000):\n",
    "        idx1 = random.randint(0, len(DATASET) - 1)\n",
    "        idx2 = random.randint(0, len(DATASET) - 1)\n",
    "        \n",
    "        S1, _, target1, _ = DATASET[idx1]\n",
    "        S2, _, target2, _ = DATASET[idx2]\n",
    "        \n",
    "        K1 = [DATASET.idx2state[idx] for idx in target1.cpu().numpy()\n",
    "              if idx != DATASET.state2idx[DATASET.config['PAD_TOKEN']] and\n",
    "                 idx != DATASET.state2idx[DATASET.config['EOS_TOKEN']]]\n",
    "        K2 = [DATASET.idx2state[idx] for idx in target2.cpu().numpy()\n",
    "              if idx != DATASET.state2idx[DATASET.config['PAD_TOKEN']] and\n",
    "                 idx != DATASET.state2idx[DATASET.config['EOS_TOKEN']]]\n",
    "        \n",
    "        sym_diff = len(set(K1).symmetric_difference(set(K2)))\n",
    "        sym_diffs.append(sym_diff)\n",
    "        \n",
    "        K1_embedding = generate_sequence(model, S1.unsqueeze(0).to(model.config[\"device\"]),\n",
    "                                         DATASET, DATASET.config['EOS_TOKEN'], embedding_only=True)[1]\n",
    "        K2_embedding = generate_sequence(model, S2.unsqueeze(0).to(model.config[\"device\"]),\n",
    "                                         DATASET, DATASET.config['EOS_TOKEN'], embedding_only=True)[1]\n",
    "        cosine_distance = 1 - F.cosine_similarity(K1_embedding, K2_embedding).item() #torch.norm(K1_embedding - K2_embedding, p=2).item()\n",
    "        cosine_distances.append(cosine_distance)\n",
    "        \n",
    "        euklidean = torch.norm(K1_embedding - K2_embedding, p=2).item()\n",
    "        distances_euklidean.append(euklidean)\n",
    "        \n",
    "        # compute mean absolute error between embedding vectors\n",
    "        mae = loss_fn(K1_embedding, K2_embedding).item()\n",
    "        maes.append(mae)\n",
    "\n",
    "    return sym_diffs, cosine_distances, distances_euklidean, maes\n",
    "\n",
    "# Calculate metrics\n",
    "sym_diffs, cosine_distances, distances_euklidean, maes = compute_metrics()\n",
    "\n",
    "# Compute correlation\n",
    "correlation1, _ = pearsonr(sym_diffs, cosine_distances)\n",
    "correlation2, _ = pearsonr(sym_diffs, distances_euklidean)\n",
    "correlation3, _ = pearsonr(sym_diffs, maes)\n",
    "print(f\"Correlation between symmetric differences and Cosine Distances: {correlation1:.3f}\")\n",
    "print(f\"Correlation between symmetric differences and Euclidean Distances: {correlation2:.3f}\")\n",
    "print(f\"Correlation between symmetric differences and Mean Absolute Distances: {correlation3:.3f}\")\n"
   ]
  },
  {
   "cell_type": "markdown",
   "metadata": {},
   "source": [
    "### Regression"
   ]
  },
  {
   "cell_type": "code",
   "execution_count": null,
   "metadata": {},
   "outputs": [],
   "source": [
    "# decoder_in_proj_layer = model.input_proj\n",
    "# train_loader_regressor = DataLoader(train_set, batch_size=4, shuffle=True, collate_fn=collate_fn)\n",
    "\n",
    "input_size = 5 ** 2\n",
    "output_size = hidden_size1 = hidden_size2 = 1024\n",
    "dropout_val = 0.3\n",
    "regressor = RegressionNetwork(input_size, hidden_size1, hidden_size2, output_size, dropout_val).to('cuda')\n",
    "\n",
    "LR2 = model.config['LR_2'] \n",
    "decay_2 = model.config['LR_2_decay']\n",
    "optimizer_2 = optim.Adam(regressor.parameters(), lr=LR2)\n",
    "scheduler_2 = torch.optim.lr_scheduler.StepLR(optimizer_2, 1.0, gamma=decay_2)\n",
    "mse = nn.MSELoss()"
   ]
  },
  {
   "cell_type": "code",
   "execution_count": null,
   "metadata": {},
   "outputs": [],
   "source": [
    "def eval_regressor(regressor, decoder_in_proj, data_loader, criterion, knet=None):\n",
    "    regressor.eval()\n",
    "    decoder_in_proj.eval()\n",
    "    if knet is not None: knet.eval()\n",
    "    \n",
    "    # Training metrics\n",
    "    total_loss = 0.\n",
    "    total_mse = 0. \n",
    "    total_cosine_loss = 0. \n",
    "    num_batches = 0\n",
    "\n",
    "    with torch.no_grad():\n",
    "        for S, data, _, C in data_loader:\n",
    "            targets = decoder_in_proj(S)\n",
    "            outputs = regressor(C)\n",
    "            \n",
    "            # Calculate loss\n",
    "            mse_loss = criterion(outputs, targets) \n",
    "            total_mse += mse_loss\n",
    "            # Calculate cosine loss\n",
    "            cosine_loss = (1 - F.cosine_similarity(outputs, targets).mean() ** 2) * 0.05\n",
    "            total_cosine_loss += cosine_loss.item()\n",
    "            # total\n",
    "            loss = mse_loss + cosine_loss\n",
    "            total_loss += loss.item()\n",
    "            num_batches += 1\n",
    "    mean_loss = total_loss / num_batches\n",
    "    mean_cosine_loss = total_cosine_loss / num_batches\n",
    "    mean_mse_loss = total_mse / num_batches\n",
    "    \n",
    "    logs = f\"         Validation Loss: {mean_loss} (mean cosine: {mean_cosine_loss}, mean mse: {mean_mse_loss}\"\n",
    "    print(logs)\n",
    "    return mean_loss, logs\n",
    "\n",
    "def train_regressor(regressor, decoder_in_proj, train_loader, val_loader, optimizer, criterion, scheduler, epochs):\n",
    "    decoder_in_proj.eval()\n",
    "    \n",
    "    # Training metrics\n",
    "    train_losses = []\n",
    "    val_losses = []\n",
    "    acc_values = []\n",
    "    diff_values = []\n",
    "    logs = []\n",
    "    \n",
    "    for epoch in range(1, epochs+1):\n",
    "        \n",
    "        regressor.train()\n",
    "    \n",
    "        total_loss = 0.0\n",
    "        total_mse = 0.0\n",
    "        total_cosine_loss = 0.0\n",
    "        total_l1 = 0.0\n",
    "        num_batches = 0\n",
    "        \n",
    "        for batch_idx, (S, _, _, C) in enumerate(train_loader): \n",
    "            outputs = regressor(C)\n",
    "            targets = decoder_in_proj(S) \n",
    "            optimizer.zero_grad()\n",
    "\n",
    "            ## Calculate loss\n",
    "            mse_loss = criterion(outputs, targets) \n",
    "            total_mse += mse_loss\n",
    "            ## Calculate cosine loss\n",
    "            cosine_loss = (1 - F.cosine_similarity(outputs, targets).mean() ** 2) * 0.05\n",
    "            ## dot_loss = abs(torch.matmul(targets, outputs.t()).mean()) * 0.5\n",
    "            total_cosine_loss += cosine_loss.item()\n",
    "            loss = mse_loss + cosine_loss \n",
    "            total_loss += loss.item()\n",
    "            num_batches += 1\n",
    "\n",
    "            # Backward pass and optimize\n",
    "            loss.backward()\n",
    "            optimizer.step()\n",
    "        \n",
    "        scheduler.step()\n",
    "        \n",
    "        if epoch % 5 == 0:\n",
    "            acc, mean_diff, std = performance(model, val_set, DATASET, regressor=regressor, print_n_errors=3, plot=False)\n",
    "            acc_values += [acc]\n",
    "            diff_values += [mean_diff]\n",
    "        \n",
    "        mean_loss = total_loss / num_batches\n",
    "        train_losses += [mean_loss]\n",
    "        mean_cosine_loss = total_cosine_loss / num_batches\n",
    "        mean_mse_loss = total_mse / num_batches\n",
    "        \n",
    "        train_log = f\"Epoch: {epoch}/{epochs}, Total Loss: {mean_loss} (mean cosine: {mean_cosine_loss}, mean mse: {mean_mse_loss} | LR: {scheduler.get_last_lr()[0]:.10f}\"\n",
    "        logs += train_log\n",
    "        print(train_log)\n",
    "        \n",
    "        mean_val_loss, val_log = eval_regressor(regressor, decoder_in_proj, val_loader, criterion)\n",
    "        val_losses += [mean_val_loss]\n",
    "        logs += [val_log]\n",
    "    \n",
    "    return train_losses, val_losses, acc_values, diff_values, logs"
   ]
  },
  {
   "cell_type": "code",
   "execution_count": null,
   "metadata": {},
   "outputs": [],
   "source": [
    "train_losses, val_losses, acc_values, diff_values, logs = train_regressor(regressor, decoder_in_proj_layer, train_loader, val_loader, optimizer_2, mse, scheduler_2, epochs=20)\n"
   ]
  },
  {
   "cell_type": "markdown",
   "metadata": {},
   "source": [
    "##### plot losses"
   ]
  },
  {
   "cell_type": "code",
   "execution_count": null,
   "metadata": {},
   "outputs": [],
   "source": [
    "\n",
    "fig, ax1 = plt.subplots()\n",
    "color = 'tab:red'\n",
    "ax1.set_xlabel('Epochs')\n",
    "ax1.set_ylabel('Loss', color=color)\n",
    "ax1.plot(train_losses, color=color, label='Training loss')\n",
    "ax1.plot(val_losses, color='tab:orange', label='Validation loss')\n",
    "ax1.tick_params(axis='y', labelcolor=color)\n",
    "ax2 = ax1.twinx()  # instantiate a second axes that shares the same x-axis\n",
    "color = 'tab:blue'\n",
    "ax2.set_ylabel('Accuracy', color=color)  # we already handled the x-label with ax1\n",
    "ax2.plot(acc_values, color=color, label='Accuracy')\n",
    "ax2.tick_params(axis='y', labelcolor=color)\n",
    "ax2.set_ylim([0, 1])  # set the range of accuracy axis from 0 to 1\n",
    "fig.tight_layout()  # otherwise the right y-label is slightly clipped\n",
    "plt.show()\n",
    "\n",
    "\n",
    "fig, ax1 = plt.subplots()\n",
    "color = 'tab:red'\n",
    "ax1.set_xlabel('Epochs')\n",
    "ax1.set_ylabel('Loss', color=color)\n",
    "ax1.plot(train_losses, color=color, label='Training loss')\n",
    "ax1.plot(val_losses, color='tab:orange', label='Validation loss')\n",
    "ax1.tick_params(axis='y', labelcolor=color)\n",
    "ax2 = ax1.twinx()  # instantiate a second axes that shares the same x-axis\n",
    "color = 'tab:blue'\n",
    "ax2.set_ylabel('Average symmetric difference', color=color)  # we already handled the x-label with ax1\n",
    "def moving_average(data_set, periods=10):\n",
    "    weights = np.ones(periods) / periods\n",
    "    return np.convolve(data_set, weights, mode='valid')\n",
    "smooth_diff_values = moving_average(diff_values)\n",
    "ax2.plot(diff_values, color=color, label='Smooth Accuracy')\n",
    "ax2.tick_params(axis='y', labelcolor=color)\n",
    "\n",
    "fig.tight_layout()  # otherwise the right y-label is slightly clipped\n",
    "plt.show()\n"
   ]
  },
  {
   "cell_type": "markdown",
   "metadata": {},
   "source": [
    "##### K-net (end-to-end training)"
   ]
  },
  {
   "cell_type": "code",
   "execution_count": null,
   "metadata": {},
   "outputs": [],
   "source": [
    "class KNET(nn.Module):\n",
    "    def __init__(self, decoder, regressor):\n",
    "        super(KNET, self).__init__()\n",
    "        # Define the first fully connected layer\n",
    "        self.decoder = decoder\n",
    "        self.regressor = regressor\n",
    "\n",
    "    def forward(self, S, in_seq, C):\n",
    "        K_embedding_batch = self.regressor(C)\n",
    "        output, _, attention_weights = self.decoder(S, in_seq, K_embedding_batch)\n",
    "        return output, K_embedding_batch, attention_weights\n",
    "\n",
    "knet = KNET(model, regressor).to('cuda')"
   ]
  },
  {
   "cell_type": "code",
   "execution_count": null,
   "metadata": {},
   "outputs": [],
   "source": [
    "optimizer_3 = optim.Adam(knet.parameters(), lr=0.00001) \n",
    "scheduler_3 = torch.optim.lr_scheduler.StepLR(optimizer_3, 1.0, gamma=model.config[\"LR_2_decay\"])\n",
    "\n",
    "criterion = CustomCELoss()\n",
    "# def modified_mse(y_pred, y_true): # introduces a tolerance margin to the calculation \n",
    "#     diff = y_pred - y_true\n",
    "#     diff = torch.sign(diff) * torch.clamp(torch.abs(diff) - 0.5, min=0)\n",
    "#     return (diff ** 2).mean()\n",
    "criterion2 = nn.MSELoss() # modified_mse\n",
    "\n",
    "device = torch.device('cuda' if torch.cuda.is_available() else 'cpu')\n",
    "optimizer_3.zero_grad()\n",
    "\n",
    "def end_to_end_training(epochs, length_wheight):\n",
    "    # Training metrics\n",
    "    train_losses = []\n",
    "    val_losses = []\n",
    "    acc_values = []\n",
    "\n",
    "    for e in range(1, epochs+1):  \n",
    "            \n",
    "        train_losses += [train(model, train_loader, optimizer_3, criterion, criterion2, scheduler_3, model.config[\"clip_norm\"], DATASET, length_wheight, device, knet=knet)]\n",
    "        val_losses += [evaluate(model, val_loader, criterion, device)]\n",
    "        \n",
    "        # Display losses, LR and length wheight of current epoch\n",
    "        print(f\"Epoch {e}/{epochs}: Train Losses: {train_losses[-1][-1]:.6f} (CE{train_losses[-1][0]:.6f}) (L{train_losses[-1][1]:.6f}) | Validation Loss: {val_losses[-1]:.6f} | LR: {scheduler_3.get_last_lr()[0]:.10f} | Length_wheight: {length_wheight:.6f}\")\n",
    "        \n",
    "        # Evaluate performance on complete dataset sample\n",
    "        if e % 3 == 0:\n",
    "            acc, mean_dist, std = performance(model, val_set, DATASET, regressor=regressor, print_n_errors=5, plot=False)\n",
    "            acc_values.append(acc)\n",
    "        \n",
    "        # Decay LR and length wheight \n",
    "        scheduler_3.step()\n",
    "        length_wheight = max(length_wheight * model.config[\"length_wheight_decay\"], 0.02)\n",
    "\n",
    "    return train_losses, val_losses, acc_values"
   ]
  },
  {
   "cell_type": "code",
   "execution_count": null,
   "metadata": {},
   "outputs": [],
   "source": [
    "train_losses, val_losses, acc_values = end_to_end_training(50, 0.05);"
   ]
  },
  {
   "cell_type": "markdown",
   "metadata": {},
   "source": [
    "### Performance test 2"
   ]
  },
  {
   "cell_type": "code",
   "execution_count": 38,
   "metadata": {},
   "outputs": [
    {
     "name": "stderr",
     "output_type": "stream",
     "text": [
      "Performance test on 100 random test samples: 100%|██████████| 100/100 [00:04<00:00, 21.72it/s]"
     ]
    },
    {
     "name": "stdout",
     "output_type": "stream",
     "text": [
      "    Displaying 100 mismatching sequences:\n",
      "    0) Symmetric Difference: 3\n",
      "    [Target]     ||d    |bd   |de   |ade  |bde  |abde |abcde|<eos>|<pad>|<pad>|<pad>|<pad>|<pad>|<pad>|<pad>|<pad>|<pad>|<pad>|<pad>|<pad>|<pad>|<pad>|<pad>|<pad>|<pad>|<pad>|<pad>|<pad>|<pad>|<pad>|<pad>|<pad>|<pad>||\n",
      "    [Prediction] ||b    |d    |e    |bd   |de   |ade  |bde  |abde |acde |abcde|<eos>||\n",
      "    2) Symmetric Difference: 4\n",
      "    [Target]     ||c    |d    |ad   |cd   |acd  |ade  |abde |acde |abcde|<eos>|<pad>|<pad>|<pad>|<pad>|<pad>|<pad>|<pad>|<pad>|<pad>|<pad>|<pad>|<pad>|<pad>|<pad>|<pad>|<pad>|<pad>|<pad>|<pad>|<pad>|<pad>|<pad>|<pad>||\n",
      "    [Prediction] ||a    |c    |d    |ac   |ad   |cd   |acd  |ade  |abcd |acde |abcde|<eos>||\n",
      "    3) Symmetric Difference: 1\n",
      "    [Target]     ||b    |e    |ae   |be   |abe  |abcde|<eos>|<pad>|<pad>|<pad>|<pad>|<pad>|<pad>|<pad>|<pad>|<pad>|<pad>|<pad>|<pad>|<pad>|<pad>|<pad>|<pad>|<pad>|<pad>|<pad>|<pad>|<pad>|<pad>|<pad>|<pad>|<pad>|<pad>||\n",
      "    [Prediction] ||e    |ae   |be   |abe  |abcde|<eos>||\n",
      "    4) Symmetric Difference: 2\n",
      "    [Target]     ||a    |bc   |abc  |bcd  |abcd |bcde |abcde|<eos>|<pad>|<pad>|<pad>|<pad>|<pad>|<pad>|<pad>|<pad>|<pad>|<pad>|<pad>|<pad>|<pad>|<pad>|<pad>|<pad>|<pad>|<pad>|<pad>|<pad>|<pad>|<pad>|<pad>|<pad>|<pad>||\n",
      "    [Prediction] ||a    |b    |ab   |bc   |abc  |bcd  |abcd |bcde |abcde|<eos>||\n",
      "    5) Symmetric Difference: 2\n",
      "    [Target]     ||b    |c    |d    |ac   |bc   |bd   |cd   |abc  |acd  |bcd  |abcd |acde |abcde|<eos>|<pad>|<pad>|<pad>|<pad>|<pad>|<pad>|<pad>|<pad>|<pad>|<pad>|<pad>|<pad>|<pad>|<pad>|<pad>|<pad>|<pad>|<pad>|<pad>||\n",
      "    [Prediction] ||b    |c    |d    |ac   |bc   |cd   |abc  |acd  |bcd  |abcd |acde |bcde |abcde|<eos>||\n",
      "    8) Symmetric Difference: 1\n",
      "    [Target]     ||a    |b    |e    |ab   |ae   |bc   |be   |abc  |abe  |bce  |abcd |abce |abcde|<eos>|<pad>|<pad>|<pad>|<pad>|<pad>|<pad>|<pad>|<pad>|<pad>|<pad>|<pad>|<pad>|<pad>|<pad>|<pad>|<pad>|<pad>|<pad>|<pad>||\n",
      "    [Prediction] ||a    |b    |e    |ab   |ae   |bc   |be   |abc  |abe  |bce  |abcd |abce |abde |abcde|<eos>||\n",
      "    10) Symmetric Difference: 3\n",
      "    [Target]     ||bc   |bce  |abce |bcde |abcde|<eos>|<pad>|<pad>|<pad>|<pad>|<pad>|<pad>|<pad>|<pad>|<pad>|<pad>|<pad>|<pad>|<pad>|<pad>|<pad>|<pad>|<pad>|<pad>|<pad>|<pad>|<pad>|<pad>|<pad>|<pad>|<pad>|<pad>|<pad>||\n",
      "    [Prediction] ||b    |c    |bc   |be   |bce  |abce |bcde |abcde|<eos>||\n",
      "    13) Symmetric Difference: 1\n",
      "    [Target]     ||b    |ae   |abe  |ace  |ade  |abce |abde |acde |abcde|<eos>|<pad>|<pad>|<pad>|<pad>|<pad>|<pad>|<pad>|<pad>|<pad>|<pad>|<pad>|<pad>|<pad>|<pad>|<pad>|<pad>|<pad>|<pad>|<pad>|<pad>|<pad>|<pad>|<pad>||\n",
      "    [Prediction] ||b    |ae   |abe  |ace  |abce |abde |acde |abcde|<eos>||\n",
      "    14) Symmetric Difference: 2\n",
      "    [Target]     ||b    |ab   |cd   |bcd  |abcd |bcde |abcde|<eos>|<pad>|<pad>|<pad>|<pad>|<pad>|<pad>|<pad>|<pad>|<pad>|<pad>|<pad>|<pad>|<pad>|<pad>|<pad>|<pad>|<pad>|<pad>|<pad>|<pad>|<pad>|<pad>|<pad>|<pad>|<pad>||\n",
      "    [Prediction] ||b    |cd   |bcd  |cde  |abcd |bcde |abcde|<eos>||\n",
      "    15) Symmetric Difference: 2\n",
      "    [Target]     ||d    |e    |ae   |de   |ade  |bde  |cde  |abde |acde |bcde |abcde|<eos>|<pad>|<pad>|<pad>|<pad>|<pad>|<pad>|<pad>|<pad>|<pad>|<pad>|<pad>|<pad>|<pad>|<pad>|<pad>|<pad>|<pad>|<pad>|<pad>|<pad>|<pad>||\n",
      "    [Prediction] ||d    |e    |ad   |ae   |bd   |de   |ade  |bde  |cde  |abde |acde |bcde |abcde|<eos>||\n",
      "    18) Symmetric Difference: 1\n",
      "    [Target]     ||b    |bd   |bde  |bcde |abcde|<eos>|<pad>|<pad>|<pad>|<pad>|<pad>|<pad>|<pad>|<pad>|<pad>|<pad>|<pad>|<pad>|<pad>|<pad>|<pad>|<pad>|<pad>|<pad>|<pad>|<pad>|<pad>|<pad>|<pad>|<pad>|<pad>|<pad>|<pad>||\n",
      "    [Prediction] ||b    |bd   |be   |bde  |bcde |abcde|<eos>||\n",
      "    21) Symmetric Difference: 3\n",
      "    [Target]     ||e    |bde  |abde |abcde|<eos>|<pad>|<pad>|<pad>|<pad>|<pad>|<pad>|<pad>|<pad>|<pad>|<pad>|<pad>|<pad>|<pad>|<pad>|<pad>|<pad>|<pad>|<pad>|<pad>|<pad>|<pad>|<pad>|<pad>|<pad>|<pad>|<pad>|<pad>|<pad>||\n",
      "    [Prediction] ||e    |be   |de   |bde  |abde |bcde |abcde|<eos>||\n",
      "    22) Symmetric Difference: 2\n",
      "    [Target]     ||c    |d    |ad   |cd   |ce   |abd  |acd  |cde  |abcd |acde |abcde|<eos>|<pad>|<pad>|<pad>|<pad>|<pad>|<pad>|<pad>|<pad>|<pad>|<pad>|<pad>|<pad>|<pad>|<pad>|<pad>|<pad>|<pad>|<pad>|<pad>|<pad>|<pad>||\n",
      "    [Prediction] ||c    |d    |ad   |ce   |abd  |cde  |abcd |acde |abcde|<eos>||\n",
      "    23) Symmetric Difference: 1\n",
      "    [Target]     ||b    |e    |be   |bce  |bde  |abde |bcde |abcde|<eos>|<pad>|<pad>|<pad>|<pad>|<pad>|<pad>|<pad>|<pad>|<pad>|<pad>|<pad>|<pad>|<pad>|<pad>|<pad>|<pad>|<pad>|<pad>|<pad>|<pad>|<pad>|<pad>|<pad>|<pad>||\n",
      "    [Prediction] ||b    |be   |bce  |bde  |abde |bcde |abcde|<eos>||\n",
      "    25) Symmetric Difference: 2\n",
      "    [Target]     ||b    |c    |e    |bc   |be   |ce   |bce  |abce |abcde|<eos>|<pad>|<pad>|<pad>|<pad>|<pad>|<pad>|<pad>|<pad>|<pad>|<pad>|<pad>|<pad>|<pad>|<pad>|<pad>|<pad>|<pad>|<pad>|<pad>|<pad>|<pad>|<pad>|<pad>||\n",
      "    [Prediction] ||b    |c    |e    |bc   |be   |ce   |abc  |bce  |abce |bcde |abcde|<eos>||\n",
      "    26) Symmetric Difference: 6\n",
      "    [Target]     ||a    |b    |d    |e    |ab   |ad   |ae   |bd   |be   |de   |abc  |abd  |abe  |ade  |bde  |abcd |abce |abde |abcde|<eos>|<pad>|<pad>|<pad>|<pad>|<pad>|<pad>|<pad>|<pad>|<pad>|<pad>|<pad>|<pad>|<pad>||\n",
      "    [Prediction] ||a    |d    |ab   |ad   |bd   |be   |abd  |abe  |ade  |bde  |abcd |abde |abcde|<eos>||\n",
      "    27) Symmetric Difference: 1\n",
      "    [Target]     ||a    |b    |ab   |abe  |abce |abde |abcde|<eos>|<pad>|<pad>|<pad>|<pad>|<pad>|<pad>|<pad>|<pad>|<pad>|<pad>|<pad>|<pad>|<pad>|<pad>|<pad>|<pad>|<pad>|<pad>|<pad>|<pad>|<pad>|<pad>|<pad>|<pad>|<pad>||\n",
      "    [Prediction] ||a    |b    |ab   |be   |abe  |abce |abde |abcde|<eos>||\n",
      "    28) Symmetric Difference: 1\n",
      "    [Target]     ||a    |b    |ab   |ac   |bd   |abc  |abd  |abcd |abde |abcde|<eos>|<pad>|<pad>|<pad>|<pad>|<pad>|<pad>|<pad>|<pad>|<pad>|<pad>|<pad>|<pad>|<pad>|<pad>|<pad>|<pad>|<pad>|<pad>|<pad>|<pad>|<pad>|<pad>||\n",
      "    [Prediction] ||a    |b    |ab   |bd   |abc  |abd  |abcd |abde |abcde|<eos>||\n",
      "    29) Symmetric Difference: 2\n",
      "    [Target]     ||c    |e    |bc   |ce   |de   |bce  |cde  |acde |bcde |abcde|<eos>|<pad>|<pad>|<pad>|<pad>|<pad>|<pad>|<pad>|<pad>|<pad>|<pad>|<pad>|<pad>|<pad>|<pad>|<pad>|<pad>|<pad>|<pad>|<pad>|<pad>|<pad>|<pad>||\n",
      "    [Prediction] ||c    |e    |ce   |de   |cde  |acde |bcde |abcde|<eos>||\n",
      "    31) Symmetric Difference: 1\n",
      "    [Target]     ||a    |e    |ad   |ae   |ace  |ade  |abde |acde |abcde|<eos>|<pad>|<pad>|<pad>|<pad>|<pad>|<pad>|<pad>|<pad>|<pad>|<pad>|<pad>|<pad>|<pad>|<pad>|<pad>|<pad>|<pad>|<pad>|<pad>|<pad>|<pad>|<pad>|<pad>||\n",
      "    [Prediction] ||a    |e    |ae   |ace  |ade  |abde |acde |abcde|<eos>||\n",
      "    32) Symmetric Difference: 2\n",
      "    [Target]     ||a    |c    |d    |ac   |ad   |cd   |ce   |abd  |acd  |ace  |cde  |abcd |acde |abcde|<eos>|<pad>|<pad>|<pad>|<pad>|<pad>|<pad>|<pad>|<pad>|<pad>|<pad>|<pad>|<pad>|<pad>|<pad>|<pad>|<pad>|<pad>|<pad>||\n",
      "    [Prediction] ||a    |c    |d    |ac   |ad   |ce   |acd  |ace  |cde  |abcd |acde |abcde|<eos>||\n",
      "    34) Symmetric Difference: 1\n",
      "    [Target]     ||b    |c    |bc   |abc  |bde  |bcde |abcde|<eos>|<pad>|<pad>|<pad>|<pad>|<pad>|<pad>|<pad>|<pad>|<pad>|<pad>|<pad>|<pad>|<pad>|<pad>|<pad>|<pad>|<pad>|<pad>|<pad>|<pad>|<pad>|<pad>|<pad>|<pad>|<pad>||\n",
      "    [Prediction] ||b    |c    |bc   |bde  |bcde |abcde|<eos>||\n",
      "    36) Symmetric Difference: 3\n",
      "    [Target]     ||d    |cd   |bcde |abcde|<eos>|<pad>|<pad>|<pad>|<pad>|<pad>|<pad>|<pad>|<pad>|<pad>|<pad>|<pad>|<pad>|<pad>|<pad>|<pad>|<pad>|<pad>|<pad>|<pad>|<pad>|<pad>|<pad>|<pad>|<pad>|<pad>|<pad>|<pad>|<pad>||\n",
      "    [Prediction] ||c    |d    |cd   |acd  |abcde|<eos>||\n",
      "    37) Symmetric Difference: 1\n",
      "    [Target]     ||a    |c    |ac   |bc   |cd   |abc  |acd  |bcd  |abcd |abce |abcde|<eos>|<pad>|<pad>|<pad>|<pad>|<pad>|<pad>|<pad>|<pad>|<pad>|<pad>|<pad>|<pad>|<pad>|<pad>|<pad>|<pad>|<pad>|<pad>|<pad>|<pad>|<pad>||\n",
      "    [Prediction] ||c    |ac   |bc   |cd   |abc  |acd  |bcd  |abcd |abce |abcde|<eos>||\n",
      "    38) Symmetric Difference: 1\n",
      "    [Target]     ||c    |d    |cd   |acde |abcde|<eos>|<pad>|<pad>|<pad>|<pad>|<pad>|<pad>|<pad>|<pad>|<pad>|<pad>|<pad>|<pad>|<pad>|<pad>|<pad>|<pad>|<pad>|<pad>|<pad>|<pad>|<pad>|<pad>|<pad>|<pad>|<pad>|<pad>|<pad>||\n",
      "    [Prediction] ||c    |d    |cd   |cde  |acde |abcde|<eos>||\n",
      "    39) Symmetric Difference: 1\n",
      "    [Target]     ||b    |e    |bc   |be   |ade  |bce  |abde |abcde|<eos>|<pad>|<pad>|<pad>|<pad>|<pad>|<pad>|<pad>|<pad>|<pad>|<pad>|<pad>|<pad>|<pad>|<pad>|<pad>|<pad>|<pad>|<pad>|<pad>|<pad>|<pad>|<pad>|<pad>|<pad>||\n",
      "    [Prediction] ||b    |e    |bc   |be   |bce  |abde |abcde|<eos>||\n",
      "    40) Symmetric Difference: 3\n",
      "    [Target]     ||c    |d    |cd   |bce  |bcde |abcde|<eos>|<pad>|<pad>|<pad>|<pad>|<pad>|<pad>|<pad>|<pad>|<pad>|<pad>|<pad>|<pad>|<pad>|<pad>|<pad>|<pad>|<pad>|<pad>|<pad>|<pad>|<pad>|<pad>|<pad>|<pad>|<pad>|<pad>||\n",
      "    [Prediction] ||c    |cd   |cde  |bcde |abcde|<eos>||\n",
      "    41) Symmetric Difference: 1\n",
      "    [Target]     ||a    |c    |d    |ac   |ad   |cd   |abd  |acd  |abcd |acde |abcde|<eos>|<pad>|<pad>|<pad>|<pad>|<pad>|<pad>|<pad>|<pad>|<pad>|<pad>|<pad>|<pad>|<pad>|<pad>|<pad>|<pad>|<pad>|<pad>|<pad>|<pad>|<pad>||\n",
      "    [Prediction] ||a    |c    |d    |ac   |ad   |cd   |abd  |acd  |ace  |abcd |acde |abcde|<eos>||\n",
      "    44) Symmetric Difference: 1\n",
      "    [Target]     ||e    |ae   |be   |abe  |bce  |bde  |abce |abde |bcde |abcde|<eos>|<pad>|<pad>|<pad>|<pad>|<pad>|<pad>|<pad>|<pad>|<pad>|<pad>|<pad>|<pad>|<pad>|<pad>|<pad>|<pad>|<pad>|<pad>|<pad>|<pad>|<pad>|<pad>||\n",
      "    [Prediction] ||e    |ae   |be   |abe  |ade  |bce  |bde  |abce |abde |bcde |abcde|<eos>||\n",
      "    46) Symmetric Difference: 3\n",
      "    [Target]     ||b    |c    |e    |ab   |bc   |be   |ce   |abc  |abe  |bce  |abce |bcde |abcde|<eos>|<pad>|<pad>|<pad>|<pad>|<pad>|<pad>|<pad>|<pad>|<pad>|<pad>|<pad>|<pad>|<pad>|<pad>|<pad>|<pad>|<pad>|<pad>|<pad>||\n",
      "    [Prediction] ||b    |c    |ab   |bc   |be   |abc  |abe  |bce  |abce |abcde|<eos>||\n",
      "    48) Symmetric Difference: 2\n",
      "    [Target]     ||c    |de   |cde  |bcde |abcde|<eos>|<pad>|<pad>|<pad>|<pad>|<pad>|<pad>|<pad>|<pad>|<pad>|<pad>|<pad>|<pad>|<pad>|<pad>|<pad>|<pad>|<pad>|<pad>|<pad>|<pad>|<pad>|<pad>|<pad>|<pad>|<pad>|<pad>|<pad>||\n",
      "    [Prediction] ||c    |cd   |cde  |bcde |abcde|<eos>||\n",
      "    49) Symmetric Difference: 4\n",
      "    [Target]     ||c    |d    |cd   |de   |ade  |cde  |acde |bcde |abcde|<eos>|<pad>|<pad>|<pad>|<pad>|<pad>|<pad>|<pad>|<pad>|<pad>|<pad>|<pad>|<pad>|<pad>|<pad>|<pad>|<pad>|<pad>|<pad>|<pad>|<pad>|<pad>|<pad>|<pad>||\n",
      "    [Prediction] ||c    |d    |e    |cd   |ce   |de   |acd  |cde  |acde |bcde |abcde|<eos>||\n",
      "    53) Symmetric Difference: 2\n",
      "    [Target]     ||a    |d    |e    |ad   |ae   |de   |ace  |ade  |abde |acde |abcde|<eos>|<pad>|<pad>|<pad>|<pad>|<pad>|<pad>|<pad>|<pad>|<pad>|<pad>|<pad>|<pad>|<pad>|<pad>|<pad>|<pad>|<pad>|<pad>|<pad>|<pad>|<pad>||\n",
      "    [Prediction] ||a    |d    |e    |ad   |ae   |de   |ade  |cde  |abde |acde |abcde|<eos>||\n",
      "    57) Symmetric Difference: 1\n",
      "    [Target]     ||b    |d    |ab   |bd   |abd  |abe  |abcd |abde |abcde|<eos>|<pad>|<pad>|<pad>|<pad>|<pad>|<pad>|<pad>|<pad>|<pad>|<pad>|<pad>|<pad>|<pad>|<pad>|<pad>|<pad>|<pad>|<pad>|<pad>|<pad>|<pad>|<pad>|<pad>||\n",
      "    [Prediction] ||b    |d    |ab   |bd   |abc  |abd  |abe  |abcd |abde |abcde|<eos>||\n",
      "    59) Symmetric Difference: 6\n",
      "    [Target]     ||a    |b    |c    |ab   |ac   |ad   |ae   |bc   |abc  |abd  |abe  |acd  |ace  |ade  |abcd |abce |abde |acde |abcde|<eos>|<pad>|<pad>|<pad>|<pad>|<pad>|<pad>|<pad>|<pad>|<pad>|<pad>|<pad>|<pad>|<pad>||\n",
      "    [Prediction] ||a    |ab   |ac   |ae   |abc  |abe  |acd  |ace  |ade  |abce |abde |acde |abcde|<eos>||\n",
      "    60) Symmetric Difference: 2\n",
      "    [Target]     ||b    |c    |ab   |bc   |bd   |abc  |abd  |bcd  |bde  |abcd |abde |bcde |abcde|<eos>|<pad>|<pad>|<pad>|<pad>|<pad>|<pad>|<pad>|<pad>|<pad>|<pad>|<pad>|<pad>|<pad>|<pad>|<pad>|<pad>|<pad>|<pad>|<pad>||\n",
      "    [Prediction] ||b    |c    |ab   |bc   |bd   |abc  |abd  |bcd  |abcd |abde |abcde|<eos>||\n",
      "    61) Symmetric Difference: 2\n",
      "    [Target]     ||a    |b    |e    |ab   |ae   |be   |abc  |abd  |abe  |abcd |abce |abde |abcde|<eos>|<pad>|<pad>|<pad>|<pad>|<pad>|<pad>|<pad>|<pad>|<pad>|<pad>|<pad>|<pad>|<pad>|<pad>|<pad>|<pad>|<pad>|<pad>|<pad>||\n",
      "    [Prediction] ||a    |b    |ab   |ae   |abc  |abd  |abe  |abcd |abce |abde |abcde|<eos>||\n",
      "    66) Symmetric Difference: 3\n",
      "    [Target]     ||c    |abc  |cde  |abcde|<eos>|<pad>|<pad>|<pad>|<pad>|<pad>|<pad>|<pad>|<pad>|<pad>|<pad>|<pad>|<pad>|<pad>|<pad>|<pad>|<pad>|<pad>|<pad>|<pad>|<pad>|<pad>|<pad>|<pad>|<pad>|<pad>|<pad>|<pad>|<pad>||\n",
      "    [Prediction] ||c    |ce   |cde  |abce |abcde|<eos>||\n",
      "    67) Symmetric Difference: 1\n",
      "    [Target]     ||a    |d    |ad   |ae   |bd   |abd  |ace  |ade  |abde |acde |abcde|<eos>|<pad>|<pad>|<pad>|<pad>|<pad>|<pad>|<pad>|<pad>|<pad>|<pad>|<pad>|<pad>|<pad>|<pad>|<pad>|<pad>|<pad>|<pad>|<pad>|<pad>|<pad>||\n",
      "    [Prediction] ||a    |d    |ad   |ae   |bd   |abd  |ade  |abde |acde |abcde|<eos>||\n",
      "    68) Symmetric Difference: 1\n",
      "    [Target]     ||b    |d    |bd   |abe  |abce |abde |abcde|<eos>|<pad>|<pad>|<pad>|<pad>|<pad>|<pad>|<pad>|<pad>|<pad>|<pad>|<pad>|<pad>|<pad>|<pad>|<pad>|<pad>|<pad>|<pad>|<pad>|<pad>|<pad>|<pad>|<pad>|<pad>|<pad>||\n",
      "    [Prediction] ||b    |d    |bd   |abe  |abce |abcde|<eos>||\n",
      "    69) Symmetric Difference: 1\n",
      "    [Target]     ||a    |ae   |bd   |abd  |abde |abcde|<eos>|<pad>|<pad>|<pad>|<pad>|<pad>|<pad>|<pad>|<pad>|<pad>|<pad>|<pad>|<pad>|<pad>|<pad>|<pad>|<pad>|<pad>|<pad>|<pad>|<pad>|<pad>|<pad>|<pad>|<pad>|<pad>|<pad>||\n",
      "    [Prediction] ||a    |ae   |bd   |abd  |ade  |abde |abcde|<eos>||\n",
      "    72) Symmetric Difference: 1\n",
      "    [Target]     ||e    |be   |ce   |abe  |bce  |abce |bcde |abcde|<eos>|<pad>|<pad>|<pad>|<pad>|<pad>|<pad>|<pad>|<pad>|<pad>|<pad>|<pad>|<pad>|<pad>|<pad>|<pad>|<pad>|<pad>|<pad>|<pad>|<pad>|<pad>|<pad>|<pad>|<pad>||\n",
      "    [Prediction] ||e    |be   |abe  |bce  |abce |bcde |abcde|<eos>||\n",
      "    73) Symmetric Difference: 5\n",
      "    [Target]     ||d    |e    |be   |cd   |de   |bde  |cde  |bcde |abcde|<eos>|<pad>|<pad>|<pad>|<pad>|<pad>|<pad>|<pad>|<pad>|<pad>|<pad>|<pad>|<pad>|<pad>|<pad>|<pad>|<pad>|<pad>|<pad>|<pad>|<pad>|<pad>|<pad>|<pad>||\n",
      "    [Prediction] ||d    |e    |de   |cde  |acde |abcde|<eos>||\n",
      "    74) Symmetric Difference: 4\n",
      "    [Target]     ||b    |d    |ab   |bd   |abc  |abd  |abcd |abde |abcde|<eos>|<pad>|<pad>|<pad>|<pad>|<pad>|<pad>|<pad>|<pad>|<pad>|<pad>|<pad>|<pad>|<pad>|<pad>|<pad>|<pad>|<pad>|<pad>|<pad>|<pad>|<pad>|<pad>|<pad>||\n",
      "    [Prediction] ||b    |d    |bd   |abd  |abcde|<eos>||\n",
      "    75) Symmetric Difference: 3\n",
      "    [Target]     ||d    |de   |bde  |acde |abcde|<eos>|<pad>|<pad>|<pad>|<pad>|<pad>|<pad>|<pad>|<pad>|<pad>|<pad>|<pad>|<pad>|<pad>|<pad>|<pad>|<pad>|<pad>|<pad>|<pad>|<pad>|<pad>|<pad>|<pad>|<pad>|<pad>|<pad>|<pad>||\n",
      "    [Prediction] ||d    |de   |ade  |cde  |acde |abcde|<eos>||\n",
      "    76) Symmetric Difference: 1\n",
      "    [Target]     ||e    |be   |de   |abe  |bde  |cde  |abde |bcde |abcde|<eos>|<pad>|<pad>|<pad>|<pad>|<pad>|<pad>|<pad>|<pad>|<pad>|<pad>|<pad>|<pad>|<pad>|<pad>|<pad>|<pad>|<pad>|<pad>|<pad>|<pad>|<pad>|<pad>|<pad>||\n",
      "    [Prediction] ||e    |be   |de   |abe  |bde  |abde |bcde |abcde|<eos>||\n",
      "    77) Symmetric Difference: 1\n",
      "    [Target]     ||a    |c    |d    |e    |ac   |ad   |ae   |cd   |ce   |de   |acd  |ace  |ade  |cde  |abcd |acde |abcde|<eos>|<pad>|<pad>|<pad>|<pad>|<pad>|<pad>|<pad>|<pad>|<pad>|<pad>|<pad>|<pad>|<pad>|<pad>|<pad>||\n",
      "    [Prediction] ||a    |c    |d    |e    |ac   |ad   |ae   |cd   |ce   |de   |acd  |ace  |ade  |cde  |acde |abcde|<eos>||\n",
      "    79) Symmetric Difference: 1\n",
      "    [Target]     ||a    |c    |ac   |ace  |abcd |abcde|<eos>|<pad>|<pad>|<pad>|<pad>|<pad>|<pad>|<pad>|<pad>|<pad>|<pad>|<pad>|<pad>|<pad>|<pad>|<pad>|<pad>|<pad>|<pad>|<pad>|<pad>|<pad>|<pad>|<pad>|<pad>|<pad>|<pad>||\n",
      "    [Prediction] ||a    |c    |ac   |ce   |ace  |abcd |abcde|<eos>||\n",
      "    80) Symmetric Difference: 4\n",
      "    [Target]     ||a    |b    |c    |ab   |ac   |bc   |abc  |cde  |acde |bcde |abcde|<eos>|<pad>|<pad>|<pad>|<pad>|<pad>|<pad>|<pad>|<pad>|<pad>|<pad>|<pad>|<pad>|<pad>|<pad>|<pad>|<pad>|<pad>|<pad>|<pad>|<pad>|<pad>||\n",
      "    [Prediction] ||a    |b    |c    |ab   |ac   |bc   |abc  |ace  |bce  |cde  |abcd |abce |acde |bcde |abcde|<eos>||\n",
      "    82) Symmetric Difference: 3\n",
      "    [Target]     ||d    |e    |ac   |be   |de   |acd  |ace  |bde  |abce |acde |abcde|<eos>|<pad>|<pad>|<pad>|<pad>|<pad>|<pad>|<pad>|<pad>|<pad>|<pad>|<pad>|<pad>|<pad>|<pad>|<pad>|<pad>|<pad>|<pad>|<pad>|<pad>|<pad>||\n",
      "    [Prediction] ||e    |ac   |de   |ace  |bde  |abce |acde |abcde|<eos>||\n",
      "    84) Symmetric Difference: 1\n",
      "    [Target]     ||a    |c    |ac   |ad   |ce   |abd  |acd  |ace  |abcd |acde |abcde|<eos>|<pad>|<pad>|<pad>|<pad>|<pad>|<pad>|<pad>|<pad>|<pad>|<pad>|<pad>|<pad>|<pad>|<pad>|<pad>|<pad>|<pad>|<pad>|<pad>|<pad>|<pad>||\n",
      "    [Prediction] ||a    |c    |ac   |ad   |ce   |acd  |ace  |abcd |acde |abcde|<eos>||\n",
      "    85) Symmetric Difference: 1\n",
      "    [Target]     ||b    |c    |bc   |cd   |abe  |bcd  |abce |abcde|<eos>|<pad>|<pad>|<pad>|<pad>|<pad>|<pad>|<pad>|<pad>|<pad>|<pad>|<pad>|<pad>|<pad>|<pad>|<pad>|<pad>|<pad>|<pad>|<pad>|<pad>|<pad>|<pad>|<pad>|<pad>||\n",
      "    [Prediction] ||b    |c    |bc   |cd   |abe  |bcd  |abcd |abce |abcde|<eos>||\n",
      "    86) Symmetric Difference: 2\n",
      "    [Target]     ||e    |ae   |ce   |ace  |bce  |cde  |abce |acde |bcde |abcde|<eos>|<pad>|<pad>|<pad>|<pad>|<pad>|<pad>|<pad>|<pad>|<pad>|<pad>|<pad>|<pad>|<pad>|<pad>|<pad>|<pad>|<pad>|<pad>|<pad>|<pad>|<pad>|<pad>||\n",
      "    [Prediction] ||c    |e    |ae   |ce   |ace  |bce  |abce |acde |bcde |abcde|<eos>||\n",
      "    87) Symmetric Difference: 1\n",
      "    [Target]     ||a    |ab   |ad   |ae   |abd  |abe  |ace  |ade  |abce |abde |acde |abcde|<eos>|<pad>|<pad>|<pad>|<pad>|<pad>|<pad>|<pad>|<pad>|<pad>|<pad>|<pad>|<pad>|<pad>|<pad>|<pad>|<pad>|<pad>|<pad>|<pad>|<pad>||\n",
      "    [Prediction] ||a    |ab   |ad   |ae   |abd  |abe  |ade  |abce |abde |acde |abcde|<eos>||\n",
      "    88) Symmetric Difference: 2\n",
      "    [Target]     ||b    |bc   |bcd  |bce  |abcd |bcde |abcde|<eos>|<pad>|<pad>|<pad>|<pad>|<pad>|<pad>|<pad>|<pad>|<pad>|<pad>|<pad>|<pad>|<pad>|<pad>|<pad>|<pad>|<pad>|<pad>|<pad>|<pad>|<pad>|<pad>|<pad>|<pad>|<pad>||\n",
      "    [Prediction] ||b    |c    |bc   |bcd  |bce  |bcde |abcde|<eos>||\n",
      "    89) Symmetric Difference: 1\n",
      "    [Target]     ||a    |c    |ac   |ce   |ace  |bcde |abcde|<eos>|<pad>|<pad>|<pad>|<pad>|<pad>|<pad>|<pad>|<pad>|<pad>|<pad>|<pad>|<pad>|<pad>|<pad>|<pad>|<pad>|<pad>|<pad>|<pad>|<pad>|<pad>|<pad>|<pad>|<pad>|<pad>||\n",
      "    [Prediction] ||c    |ac   |ce   |ace  |bcde |abcde|<eos>||\n",
      "    90) Symmetric Difference: 4\n",
      "    [Target]     ||a    |b    |ab   |bc   |abc  |bcd  |abcd |bcde |abcde|<eos>|<pad>|<pad>|<pad>|<pad>|<pad>|<pad>|<pad>|<pad>|<pad>|<pad>|<pad>|<pad>|<pad>|<pad>|<pad>|<pad>|<pad>|<pad>|<pad>|<pad>|<pad>|<pad>|<pad>||\n",
      "    [Prediction] ||b    |bc   |bcd  |abcd |abcde|<eos>||\n",
      "    93) Symmetric Difference: 2\n",
      "    [Target]     ||c    |d    |cd   |ace  |abce |acde |abcde|<eos>|<pad>|<pad>|<pad>|<pad>|<pad>|<pad>|<pad>|<pad>|<pad>|<pad>|<pad>|<pad>|<pad>|<pad>|<pad>|<pad>|<pad>|<pad>|<pad>|<pad>|<pad>|<pad>|<pad>|<pad>|<pad>||\n",
      "    [Prediction] ||c    |d    |ac   |cd   |ace  |acde |abcde|<eos>||\n",
      "    95) Symmetric Difference: 7\n",
      "    [Target]     ||b    |c    |d    |ac   |bc   |bd   |cd   |abc  |acd  |bcd  |abcd |abcde|<eos>|<pad>|<pad>|<pad>|<pad>|<pad>|<pad>|<pad>|<pad>|<pad>|<pad>|<pad>|<pad>|<pad>|<pad>|<pad>|<pad>|<pad>|<pad>|<pad>|<pad>||\n",
      "    [Prediction] ||b    |c    |bc   |abc  |abd  |abcd |abcde|<eos>||\n",
      "    96) Symmetric Difference: 2\n",
      "    [Target]     ||d    |abde |abcde|<eos>|<pad>|<pad>|<pad>|<pad>|<pad>|<pad>|<pad>|<pad>|<pad>|<pad>|<pad>|<pad>|<pad>|<pad>|<pad>|<pad>|<pad>|<pad>|<pad>|<pad>|<pad>|<pad>|<pad>|<pad>|<pad>|<pad>|<pad>|<pad>|<pad>||\n",
      "    [Prediction] ||d    |de   |abcde|<eos>||\n",
      "    97) Symmetric Difference: 1\n",
      "    [Target]     ||c    |cd   |ce   |bcd  |cde  |bcde |abcde|<eos>|<pad>|<pad>|<pad>|<pad>|<pad>|<pad>|<pad>|<pad>|<pad>|<pad>|<pad>|<pad>|<pad>|<pad>|<pad>|<pad>|<pad>|<pad>|<pad>|<pad>|<pad>|<pad>|<pad>|<pad>|<pad>||\n",
      "    [Prediction] ||c    |cd   |ce   |cde  |bcde |abcde|<eos>||\n",
      "Accuracy: 0.39, Avr Symmetric Difference: 1.3 (std 1.5132745950421556)\n",
      "Mean abs length difference: 1.7509471988677978 (std 1.9999773026846057) \n",
      "\n"
     ]
    },
    {
     "name": "stderr",
     "output_type": "stream",
     "text": [
      "\n"
     ]
    },
    {
     "data": {
      "text/plain": [
       "(0.39, 1.3, 1.9999773026846057)"
      ]
     },
     "execution_count": 38,
     "metadata": {},
     "output_type": "execute_result"
    }
   ],
   "source": [
    "performance(model, test_set, DATASET, regressor=regressor, print_n_errors=100, plot=False)"
   ]
  },
  {
   "cell_type": "code",
   "execution_count": null,
   "metadata": {},
   "outputs": [],
   "source": []
  }
 ],
 "metadata": {
  "kernelspec": {
   "display_name": "cv",
   "language": "python",
   "name": "python3"
  },
  "language_info": {
   "codemirror_mode": {
    "name": "ipython",
    "version": 3
   },
   "file_extension": ".py",
   "mimetype": "text/x-python",
   "name": "python",
   "nbconvert_exporter": "python",
   "pygments_lexer": "ipython3",
   "version": "3.10.6"
  }
 },
 "nbformat": 4,
 "nbformat_minor": 2
}
